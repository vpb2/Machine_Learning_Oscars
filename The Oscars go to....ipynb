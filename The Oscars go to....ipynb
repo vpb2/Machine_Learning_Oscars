{
 "cells": [
  {
   "cell_type": "markdown",
   "metadata": {},
   "source": [
    "# And the Oscar goes to ....\n",
    "\n",
    "This is a great supervised learning problem: we’ve got a nice set of data with information (training data) that we suspect will help us predict who will win this year. This is called classification, since there are only two options for each datapoint: win or not win.\n",
    "Now the problem is, we don’t know the important trends and relationships within our training data. Our goal is to come up with a program that models these relationships, so we can just input The Green Book and get back win.\n",
    "\n",
    "</br>\n",
    "<center>\n",
    "    <img src =oscars.1.jpg width = 400 />\n",
    "    *Tadaaaa...*\n",
    "</center>\n",
    "\n",
    "Let’s start simple:"
   ]
  },
  {
   "cell_type": "code",
   "execution_count": 1,
   "metadata": {
    "hideCode": false,
    "hidePrompt": false,
    "scrolled": true
   },
   "outputs": [],
   "source": [
    "import numpy as np\n",
    "import pandas as pd\n",
    "import matplotlib.pyplot as plt\n",
    "from sklearn import tree\n",
    "from sklearn.ensemble import RandomForestClassifier"
   ]
  },
  {
   "cell_type": "markdown",
   "metadata": {},
   "source": [
    "## 1. Reading the dataset and Identify the anomalies"
   ]
  },
  {
   "cell_type": "code",
   "execution_count": 2,
   "metadata": {},
   "outputs": [
    {
     "data": {
      "text/html": [
       "<div>\n",
       "<style scoped>\n",
       "    .dataframe tbody tr th:only-of-type {\n",
       "        vertical-align: middle;\n",
       "    }\n",
       "\n",
       "    .dataframe tbody tr th {\n",
       "        vertical-align: top;\n",
       "    }\n",
       "\n",
       "    .dataframe thead th {\n",
       "        text-align: right;\n",
       "    }\n",
       "</style>\n",
       "<table border=\"1\" class=\"dataframe\">\n",
       "  <thead>\n",
       "    <tr style=\"text-align: right;\">\n",
       "      <th></th>\n",
       "      <th>year</th>\n",
       "      <th>category</th>\n",
       "      <th>title</th>\n",
       "      <th>genres</th>\n",
       "      <th>MovieLensrating</th>\n",
       "      <th>runtimeMinutes</th>\n",
       "      <th>IMDBRating</th>\n",
       "      <th>imdb_numVotes</th>\n",
       "      <th>RottenCriticRating</th>\n",
       "      <th>rottencritic_numVotes</th>\n",
       "      <th>RottenRating</th>\n",
       "      <th>rotten_numVotes</th>\n",
       "      <th>won_bafta</th>\n",
       "      <th>won_sa</th>\n",
       "      <th>won_sag</th>\n",
       "      <th>won_cc</th>\n",
       "      <th>won_dga</th>\n",
       "      <th>won_nbra</th>\n",
       "      <th>won_oscar</th>\n",
       "    </tr>\n",
       "  </thead>\n",
       "  <tbody>\n",
       "    <tr>\n",
       "      <th>0</th>\n",
       "      <td>1944</td>\n",
       "      <td>BEST PICTURE</td>\n",
       "      <td>Double Indemnity</td>\n",
       "      <td>Crime|Drama|Film-Noir</td>\n",
       "      <td>4.20</td>\n",
       "      <td>107</td>\n",
       "      <td>8.3</td>\n",
       "      <td>125662</td>\n",
       "      <td>96</td>\n",
       "      <td>57</td>\n",
       "      <td>95</td>\n",
       "      <td>35629</td>\n",
       "      <td>0</td>\n",
       "      <td>0</td>\n",
       "      <td>0</td>\n",
       "      <td>0</td>\n",
       "      <td>0</td>\n",
       "      <td>0</td>\n",
       "      <td>0</td>\n",
       "    </tr>\n",
       "    <tr>\n",
       "      <th>1</th>\n",
       "      <td>1944</td>\n",
       "      <td>BEST PICTURE</td>\n",
       "      <td>Gaslight</td>\n",
       "      <td>Drama|Thriller</td>\n",
       "      <td>4.03</td>\n",
       "      <td>114</td>\n",
       "      <td>7.8</td>\n",
       "      <td>20733</td>\n",
       "      <td>86</td>\n",
       "      <td>28</td>\n",
       "      <td>90</td>\n",
       "      <td>8460</td>\n",
       "      <td>0</td>\n",
       "      <td>0</td>\n",
       "      <td>0</td>\n",
       "      <td>0</td>\n",
       "      <td>0</td>\n",
       "      <td>0</td>\n",
       "      <td>0</td>\n",
       "    </tr>\n",
       "    <tr>\n",
       "      <th>2</th>\n",
       "      <td>1944</td>\n",
       "      <td>BEST PICTURE</td>\n",
       "      <td>Going My Way</td>\n",
       "      <td>Comedy|Drama|Musical</td>\n",
       "      <td>3.56</td>\n",
       "      <td>126</td>\n",
       "      <td>7.2</td>\n",
       "      <td>9228</td>\n",
       "      <td>79</td>\n",
       "      <td>24</td>\n",
       "      <td>76</td>\n",
       "      <td>5748</td>\n",
       "      <td>0</td>\n",
       "      <td>0</td>\n",
       "      <td>0</td>\n",
       "      <td>0</td>\n",
       "      <td>0</td>\n",
       "      <td>0</td>\n",
       "      <td>1</td>\n",
       "    </tr>\n",
       "    <tr>\n",
       "      <th>3</th>\n",
       "      <td>1944</td>\n",
       "      <td>BEST PICTURE</td>\n",
       "      <td>Since You Went Away</td>\n",
       "      <td>Drama|War</td>\n",
       "      <td>3.65</td>\n",
       "      <td>177</td>\n",
       "      <td>7.6</td>\n",
       "      <td>3879</td>\n",
       "      <td>80</td>\n",
       "      <td>10</td>\n",
       "      <td>82</td>\n",
       "      <td>1305</td>\n",
       "      <td>0</td>\n",
       "      <td>0</td>\n",
       "      <td>0</td>\n",
       "      <td>0</td>\n",
       "      <td>0</td>\n",
       "      <td>0</td>\n",
       "      <td>0</td>\n",
       "    </tr>\n",
       "    <tr>\n",
       "      <th>4</th>\n",
       "      <td>1944</td>\n",
       "      <td>BEST PICTURE</td>\n",
       "      <td>Wilson</td>\n",
       "      <td>Drama</td>\n",
       "      <td>3.21</td>\n",
       "      <td>154</td>\n",
       "      <td>6.8</td>\n",
       "      <td>1314</td>\n",
       "      <td>88</td>\n",
       "      <td>8</td>\n",
       "      <td>41</td>\n",
       "      <td>363</td>\n",
       "      <td>0</td>\n",
       "      <td>0</td>\n",
       "      <td>0</td>\n",
       "      <td>0</td>\n",
       "      <td>0</td>\n",
       "      <td>0</td>\n",
       "      <td>0</td>\n",
       "    </tr>\n",
       "  </tbody>\n",
       "</table>\n",
       "</div>"
      ],
      "text/plain": [
       "   year      category                title                 genres  \\\n",
       "0  1944  BEST PICTURE     Double Indemnity  Crime|Drama|Film-Noir   \n",
       "1  1944  BEST PICTURE             Gaslight         Drama|Thriller   \n",
       "2  1944  BEST PICTURE         Going My Way   Comedy|Drama|Musical   \n",
       "3  1944  BEST PICTURE  Since You Went Away              Drama|War   \n",
       "4  1944  BEST PICTURE               Wilson                  Drama   \n",
       "\n",
       "   MovieLensrating  runtimeMinutes  IMDBRating  imdb_numVotes  \\\n",
       "0             4.20             107         8.3         125662   \n",
       "1             4.03             114         7.8          20733   \n",
       "2             3.56             126         7.2           9228   \n",
       "3             3.65             177         7.6           3879   \n",
       "4             3.21             154         6.8           1314   \n",
       "\n",
       "   RottenCriticRating  rottencritic_numVotes  RottenRating  rotten_numVotes  \\\n",
       "0                  96                     57            95            35629   \n",
       "1                  86                     28            90             8460   \n",
       "2                  79                     24            76             5748   \n",
       "3                  80                     10            82             1305   \n",
       "4                  88                      8            41              363   \n",
       "\n",
       "   won_bafta  won_sa  won_sag  won_cc  won_dga  won_nbra  won_oscar  \n",
       "0          0       0        0       0        0         0          0  \n",
       "1          0       0        0       0        0         0          0  \n",
       "2          0       0        0       0        0         0          1  \n",
       "3          0       0        0       0        0         0          0  \n",
       "4          0       0        0       0        0         0          0  "
      ]
     },
     "execution_count": 2,
     "metadata": {},
     "output_type": "execute_result"
    }
   ],
   "source": [
    "# Read in data as pandas dataframe and display the oscar dataset\n",
    "dataset = pd.read_csv('OscarData.csv')\n",
    "dataset.head()"
   ]
  },
  {
   "cell_type": "code",
   "execution_count": 3,
   "metadata": {},
   "outputs": [
    {
     "data": {
      "text/html": [
       "<div>\n",
       "<style scoped>\n",
       "    .dataframe tbody tr th:only-of-type {\n",
       "        vertical-align: middle;\n",
       "    }\n",
       "\n",
       "    .dataframe tbody tr th {\n",
       "        vertical-align: top;\n",
       "    }\n",
       "\n",
       "    .dataframe thead th {\n",
       "        text-align: right;\n",
       "    }\n",
       "</style>\n",
       "<table border=\"1\" class=\"dataframe\">\n",
       "  <thead>\n",
       "    <tr style=\"text-align: right;\">\n",
       "      <th></th>\n",
       "      <th>year</th>\n",
       "      <th>MovieLensrating</th>\n",
       "      <th>runtimeMinutes</th>\n",
       "      <th>IMDBRating</th>\n",
       "      <th>imdb_numVotes</th>\n",
       "      <th>RottenCriticRating</th>\n",
       "      <th>rottencritic_numVotes</th>\n",
       "      <th>RottenRating</th>\n",
       "      <th>rotten_numVotes</th>\n",
       "      <th>won_bafta</th>\n",
       "      <th>won_sa</th>\n",
       "      <th>won_sag</th>\n",
       "      <th>won_cc</th>\n",
       "      <th>won_dga</th>\n",
       "      <th>won_nbra</th>\n",
       "      <th>won_oscar</th>\n",
       "    </tr>\n",
       "  </thead>\n",
       "  <tbody>\n",
       "    <tr>\n",
       "      <th>count</th>\n",
       "      <td>411.000000</td>\n",
       "      <td>411.000000</td>\n",
       "      <td>411.000000</td>\n",
       "      <td>411.000000</td>\n",
       "      <td>4.110000e+02</td>\n",
       "      <td>411.000000</td>\n",
       "      <td>411.000000</td>\n",
       "      <td>411.000000</td>\n",
       "      <td>4.110000e+02</td>\n",
       "      <td>411.000000</td>\n",
       "      <td>411.000000</td>\n",
       "      <td>411.000000</td>\n",
       "      <td>411.000000</td>\n",
       "      <td>411.000000</td>\n",
       "      <td>411.000000</td>\n",
       "      <td>411.000000</td>\n",
       "    </tr>\n",
       "    <tr>\n",
       "      <th>mean</th>\n",
       "      <td>1984.000000</td>\n",
       "      <td>3.744891</td>\n",
       "      <td>130.605839</td>\n",
       "      <td>7.703163</td>\n",
       "      <td>2.289712e+05</td>\n",
       "      <td>87.581509</td>\n",
       "      <td>117.270073</td>\n",
       "      <td>83.464720</td>\n",
       "      <td>6.384332e+05</td>\n",
       "      <td>0.133820</td>\n",
       "      <td>0.060827</td>\n",
       "      <td>0.053528</td>\n",
       "      <td>0.063260</td>\n",
       "      <td>0.170316</td>\n",
       "      <td>0.148418</td>\n",
       "      <td>0.182482</td>\n",
       "    </tr>\n",
       "    <tr>\n",
       "      <th>std</th>\n",
       "      <td>22.762185</td>\n",
       "      <td>0.295022</td>\n",
       "      <td>25.593356</td>\n",
       "      <td>0.481071</td>\n",
       "      <td>3.218728e+05</td>\n",
       "      <td>11.907778</td>\n",
       "      <td>114.005338</td>\n",
       "      <td>9.163586</td>\n",
       "      <td>4.055703e+06</td>\n",
       "      <td>0.340874</td>\n",
       "      <td>0.239304</td>\n",
       "      <td>0.225358</td>\n",
       "      <td>0.243727</td>\n",
       "      <td>0.376369</td>\n",
       "      <td>0.355948</td>\n",
       "      <td>0.386712</td>\n",
       "    </tr>\n",
       "    <tr>\n",
       "      <th>min</th>\n",
       "      <td>1944.000000</td>\n",
       "      <td>2.820000</td>\n",
       "      <td>84.000000</td>\n",
       "      <td>6.200000</td>\n",
       "      <td>1.147000e+03</td>\n",
       "      <td>0.000000</td>\n",
       "      <td>0.000000</td>\n",
       "      <td>41.000000</td>\n",
       "      <td>3.340000e+02</td>\n",
       "      <td>0.000000</td>\n",
       "      <td>0.000000</td>\n",
       "      <td>0.000000</td>\n",
       "      <td>0.000000</td>\n",
       "      <td>0.000000</td>\n",
       "      <td>0.000000</td>\n",
       "      <td>0.000000</td>\n",
       "    </tr>\n",
       "    <tr>\n",
       "      <th>25%</th>\n",
       "      <td>1964.000000</td>\n",
       "      <td>3.565000</td>\n",
       "      <td>113.000000</td>\n",
       "      <td>7.400000</td>\n",
       "      <td>2.047700e+04</td>\n",
       "      <td>84.000000</td>\n",
       "      <td>30.000000</td>\n",
       "      <td>79.000000</td>\n",
       "      <td>9.507500e+03</td>\n",
       "      <td>0.000000</td>\n",
       "      <td>0.000000</td>\n",
       "      <td>0.000000</td>\n",
       "      <td>0.000000</td>\n",
       "      <td>0.000000</td>\n",
       "      <td>0.000000</td>\n",
       "      <td>0.000000</td>\n",
       "    </tr>\n",
       "    <tr>\n",
       "      <th>50%</th>\n",
       "      <td>1985.000000</td>\n",
       "      <td>3.760000</td>\n",
       "      <td>126.000000</td>\n",
       "      <td>7.700000</td>\n",
       "      <td>9.304000e+04</td>\n",
       "      <td>91.000000</td>\n",
       "      <td>60.000000</td>\n",
       "      <td>85.000000</td>\n",
       "      <td>4.973300e+04</td>\n",
       "      <td>0.000000</td>\n",
       "      <td>0.000000</td>\n",
       "      <td>0.000000</td>\n",
       "      <td>0.000000</td>\n",
       "      <td>0.000000</td>\n",
       "      <td>0.000000</td>\n",
       "      <td>0.000000</td>\n",
       "    </tr>\n",
       "    <tr>\n",
       "      <th>75%</th>\n",
       "      <td>2006.000000</td>\n",
       "      <td>3.935000</td>\n",
       "      <td>143.000000</td>\n",
       "      <td>8.000000</td>\n",
       "      <td>3.050575e+05</td>\n",
       "      <td>95.000000</td>\n",
       "      <td>212.500000</td>\n",
       "      <td>90.000000</td>\n",
       "      <td>1.798465e+05</td>\n",
       "      <td>0.000000</td>\n",
       "      <td>0.000000</td>\n",
       "      <td>0.000000</td>\n",
       "      <td>0.000000</td>\n",
       "      <td>0.000000</td>\n",
       "      <td>0.000000</td>\n",
       "      <td>0.000000</td>\n",
       "    </tr>\n",
       "    <tr>\n",
       "      <th>max</th>\n",
       "      <td>2018.000000</td>\n",
       "      <td>4.720000</td>\n",
       "      <td>220.000000</td>\n",
       "      <td>9.300000</td>\n",
       "      <td>2.070726e+06</td>\n",
       "      <td>100.000000</td>\n",
       "      <td>472.000000</td>\n",
       "      <td>98.000000</td>\n",
       "      <td>3.579764e+07</td>\n",
       "      <td>1.000000</td>\n",
       "      <td>1.000000</td>\n",
       "      <td>1.000000</td>\n",
       "      <td>1.000000</td>\n",
       "      <td>1.000000</td>\n",
       "      <td>1.000000</td>\n",
       "      <td>1.000000</td>\n",
       "    </tr>\n",
       "  </tbody>\n",
       "</table>\n",
       "</div>"
      ],
      "text/plain": [
       "              year  MovieLensrating  runtimeMinutes  IMDBRating  \\\n",
       "count   411.000000       411.000000      411.000000  411.000000   \n",
       "mean   1984.000000         3.744891      130.605839    7.703163   \n",
       "std      22.762185         0.295022       25.593356    0.481071   \n",
       "min    1944.000000         2.820000       84.000000    6.200000   \n",
       "25%    1964.000000         3.565000      113.000000    7.400000   \n",
       "50%    1985.000000         3.760000      126.000000    7.700000   \n",
       "75%    2006.000000         3.935000      143.000000    8.000000   \n",
       "max    2018.000000         4.720000      220.000000    9.300000   \n",
       "\n",
       "       imdb_numVotes  RottenCriticRating  rottencritic_numVotes  RottenRating  \\\n",
       "count   4.110000e+02          411.000000             411.000000    411.000000   \n",
       "mean    2.289712e+05           87.581509             117.270073     83.464720   \n",
       "std     3.218728e+05           11.907778             114.005338      9.163586   \n",
       "min     1.147000e+03            0.000000               0.000000     41.000000   \n",
       "25%     2.047700e+04           84.000000              30.000000     79.000000   \n",
       "50%     9.304000e+04           91.000000              60.000000     85.000000   \n",
       "75%     3.050575e+05           95.000000             212.500000     90.000000   \n",
       "max     2.070726e+06          100.000000             472.000000     98.000000   \n",
       "\n",
       "       rotten_numVotes   won_bafta      won_sa     won_sag      won_cc  \\\n",
       "count     4.110000e+02  411.000000  411.000000  411.000000  411.000000   \n",
       "mean      6.384332e+05    0.133820    0.060827    0.053528    0.063260   \n",
       "std       4.055703e+06    0.340874    0.239304    0.225358    0.243727   \n",
       "min       3.340000e+02    0.000000    0.000000    0.000000    0.000000   \n",
       "25%       9.507500e+03    0.000000    0.000000    0.000000    0.000000   \n",
       "50%       4.973300e+04    0.000000    0.000000    0.000000    0.000000   \n",
       "75%       1.798465e+05    0.000000    0.000000    0.000000    0.000000   \n",
       "max       3.579764e+07    1.000000    1.000000    1.000000    1.000000   \n",
       "\n",
       "          won_dga    won_nbra   won_oscar  \n",
       "count  411.000000  411.000000  411.000000  \n",
       "mean     0.170316    0.148418    0.182482  \n",
       "std      0.376369    0.355948    0.386712  \n",
       "min      0.000000    0.000000    0.000000  \n",
       "25%      0.000000    0.000000    0.000000  \n",
       "50%      0.000000    0.000000    0.000000  \n",
       "75%      0.000000    0.000000    0.000000  \n",
       "max      1.000000    1.000000    1.000000  "
      ]
     },
     "execution_count": 3,
     "metadata": {},
     "output_type": "execute_result"
    }
   ],
   "source": [
    "# Descriptive statistics for each column\n",
    "dataset.describe()"
   ]
  },
  {
   "cell_type": "code",
   "execution_count": 4,
   "metadata": {},
   "outputs": [
    {
     "data": {
      "text/html": [
       "<div>\n",
       "<style scoped>\n",
       "    .dataframe tbody tr th:only-of-type {\n",
       "        vertical-align: middle;\n",
       "    }\n",
       "\n",
       "    .dataframe tbody tr th {\n",
       "        vertical-align: top;\n",
       "    }\n",
       "\n",
       "    .dataframe thead th {\n",
       "        text-align: right;\n",
       "    }\n",
       "</style>\n",
       "<table border=\"1\" class=\"dataframe\">\n",
       "  <thead>\n",
       "    <tr style=\"text-align: right;\">\n",
       "      <th></th>\n",
       "      <th>year</th>\n",
       "      <th>category</th>\n",
       "      <th>title</th>\n",
       "      <th>genres</th>\n",
       "      <th>MovieLensrating</th>\n",
       "      <th>runtimeMinutes</th>\n",
       "      <th>IMDBRating</th>\n",
       "      <th>imdb_numVotes</th>\n",
       "      <th>RottenCriticRating</th>\n",
       "      <th>rottencritic_numVotes</th>\n",
       "      <th>RottenRating</th>\n",
       "      <th>rotten_numVotes</th>\n",
       "      <th>won_bafta</th>\n",
       "      <th>won_sa</th>\n",
       "      <th>won_sag</th>\n",
       "      <th>won_cc</th>\n",
       "      <th>won_dga</th>\n",
       "      <th>won_nbra</th>\n",
       "      <th>won_oscar</th>\n",
       "    </tr>\n",
       "  </thead>\n",
       "  <tbody>\n",
       "    <tr>\n",
       "      <th>406</th>\n",
       "      <td>2018</td>\n",
       "      <td>BEST PICTURE</td>\n",
       "      <td>The Favourite</td>\n",
       "      <td>Drama|Comedy</td>\n",
       "      <td>3.82</td>\n",
       "      <td>119</td>\n",
       "      <td>7.7</td>\n",
       "      <td>103011</td>\n",
       "      <td>93</td>\n",
       "      <td>362</td>\n",
       "      <td>67</td>\n",
       "      <td>5754</td>\n",
       "      <td>0</td>\n",
       "      <td>1</td>\n",
       "      <td>0</td>\n",
       "      <td>0</td>\n",
       "      <td>0</td>\n",
       "      <td>0</td>\n",
       "      <td>0</td>\n",
       "    </tr>\n",
       "    <tr>\n",
       "      <th>407</th>\n",
       "      <td>2018</td>\n",
       "      <td>BEST PICTURE</td>\n",
       "      <td>Green Book</td>\n",
       "      <td>Drama|Comedy</td>\n",
       "      <td>3.94</td>\n",
       "      <td>130</td>\n",
       "      <td>8.3</td>\n",
       "      <td>170827</td>\n",
       "      <td>78</td>\n",
       "      <td>316</td>\n",
       "      <td>92</td>\n",
       "      <td>7859</td>\n",
       "      <td>0</td>\n",
       "      <td>0</td>\n",
       "      <td>0</td>\n",
       "      <td>0</td>\n",
       "      <td>0</td>\n",
       "      <td>1</td>\n",
       "      <td>1</td>\n",
       "    </tr>\n",
       "    <tr>\n",
       "      <th>408</th>\n",
       "      <td>2018</td>\n",
       "      <td>BEST PICTURE</td>\n",
       "      <td>Roma</td>\n",
       "      <td>Drama</td>\n",
       "      <td>3.76</td>\n",
       "      <td>135</td>\n",
       "      <td>7.8</td>\n",
       "      <td>100158</td>\n",
       "      <td>96</td>\n",
       "      <td>353</td>\n",
       "      <td>71</td>\n",
       "      <td>4667</td>\n",
       "      <td>1</td>\n",
       "      <td>1</td>\n",
       "      <td>0</td>\n",
       "      <td>1</td>\n",
       "      <td>1</td>\n",
       "      <td>0</td>\n",
       "      <td>0</td>\n",
       "    </tr>\n",
       "    <tr>\n",
       "      <th>409</th>\n",
       "      <td>2018</td>\n",
       "      <td>BEST PICTURE</td>\n",
       "      <td>A Star Is Born</td>\n",
       "      <td>Drama|Romance</td>\n",
       "      <td>3.67</td>\n",
       "      <td>135</td>\n",
       "      <td>7.8</td>\n",
       "      <td>229903</td>\n",
       "      <td>89</td>\n",
       "      <td>472</td>\n",
       "      <td>80</td>\n",
       "      <td>18019</td>\n",
       "      <td>0</td>\n",
       "      <td>1</td>\n",
       "      <td>0</td>\n",
       "      <td>0</td>\n",
       "      <td>0</td>\n",
       "      <td>0</td>\n",
       "      <td>0</td>\n",
       "    </tr>\n",
       "    <tr>\n",
       "      <th>410</th>\n",
       "      <td>2018</td>\n",
       "      <td>BEST PICTURE</td>\n",
       "      <td>Vice</td>\n",
       "      <td>Drama|Comedy</td>\n",
       "      <td>3.49</td>\n",
       "      <td>132</td>\n",
       "      <td>7.2</td>\n",
       "      <td>58938</td>\n",
       "      <td>66</td>\n",
       "      <td>326</td>\n",
       "      <td>58</td>\n",
       "      <td>3902</td>\n",
       "      <td>0</td>\n",
       "      <td>0</td>\n",
       "      <td>0</td>\n",
       "      <td>0</td>\n",
       "      <td>0</td>\n",
       "      <td>0</td>\n",
       "      <td>0</td>\n",
       "    </tr>\n",
       "  </tbody>\n",
       "</table>\n",
       "</div>"
      ],
      "text/plain": [
       "     year      category           title         genres  MovieLensrating  \\\n",
       "406  2018  BEST PICTURE   The Favourite   Drama|Comedy             3.82   \n",
       "407  2018  BEST PICTURE      Green Book   Drama|Comedy             3.94   \n",
       "408  2018  BEST PICTURE            Roma          Drama             3.76   \n",
       "409  2018  BEST PICTURE  A Star Is Born  Drama|Romance             3.67   \n",
       "410  2018  BEST PICTURE            Vice   Drama|Comedy             3.49   \n",
       "\n",
       "     runtimeMinutes  IMDBRating  imdb_numVotes  RottenCriticRating  \\\n",
       "406             119         7.7         103011                  93   \n",
       "407             130         8.3         170827                  78   \n",
       "408             135         7.8         100158                  96   \n",
       "409             135         7.8         229903                  89   \n",
       "410             132         7.2          58938                  66   \n",
       "\n",
       "     rottencritic_numVotes  RottenRating  rotten_numVotes  won_bafta  won_sa  \\\n",
       "406                    362            67             5754          0       1   \n",
       "407                    316            92             7859          0       0   \n",
       "408                    353            71             4667          1       1   \n",
       "409                    472            80            18019          0       1   \n",
       "410                    326            58             3902          0       0   \n",
       "\n",
       "     won_sag  won_cc  won_dga  won_nbra  won_oscar  \n",
       "406        0       0        0         0          0  \n",
       "407        0       0        0         1          1  \n",
       "408        0       1        1         0          0  \n",
       "409        0       0        0         0          0  \n",
       "410        0       0        0         0          0  "
      ]
     },
     "execution_count": 4,
     "metadata": {},
     "output_type": "execute_result"
    }
   ],
   "source": [
    "dataset = dataset.fillna(dataset.mean())\n",
    "dataset.tail()"
   ]
  },
  {
   "cell_type": "code",
   "execution_count": 5,
   "metadata": {},
   "outputs": [
    {
     "data": {
      "text/plain": [
       "['MovieLensrating',\n",
       " 'runtimeMinutes',\n",
       " 'IMDBRating',\n",
       " 'imdb_numVotes',\n",
       " 'RottenCriticRating',\n",
       " 'rottencritic_numVotes',\n",
       " 'RottenRating',\n",
       " 'rotten_numVotes',\n",
       " 'won_bafta',\n",
       " 'won_sa',\n",
       " 'won_sag',\n",
       " 'won_cc',\n",
       " 'won_dga']"
      ]
     },
     "execution_count": 5,
     "metadata": {},
     "output_type": "execute_result"
    }
   ],
   "source": [
    "#feature list for variable importance\n",
    "features = dataset.iloc[:,4:17]\n",
    "feature_list = list(features.columns)\n",
    "feature_list"
   ]
  },
  {
   "cell_type": "code",
   "execution_count": 6,
   "metadata": {},
   "outputs": [],
   "source": [
    "#Divide the dataset into features(X) and the label(y) which we have to predict\n",
    "X = dataset.iloc[:, 4 : 17].values\n",
    "y = dataset.iloc[:, 18].values"
   ]
  },
  {
   "cell_type": "code",
   "execution_count": 7,
   "metadata": {},
   "outputs": [
    {
     "name": "stdout",
     "output_type": "stream",
     "text": [
      "The shape of our features is: (411, 13)\n"
     ]
    }
   ],
   "source": [
    "print('The shape of our features is:', X.shape)"
   ]
  },
  {
   "cell_type": "code",
   "execution_count": 8,
   "metadata": {},
   "outputs": [
    {
     "data": {
      "text/plain": [
       "array([0, 0, 1, 0, 0, 0, 0, 1, 0, 0, 1, 0, 0, 0, 0, 0, 0, 1, 0, 0, 1, 0,\n",
       "       0, 0, 0, 1, 0, 0, 0, 0, 1, 0, 0, 0, 0, 1, 0, 0, 0, 0, 1, 0, 0, 0,\n",
       "       0, 1, 0, 0, 0, 0, 0, 0, 1, 0, 0, 0, 1, 0, 0, 0, 1, 0, 0, 0, 0, 1,\n",
       "       0, 0, 0, 0, 0, 0, 0, 1, 0, 0, 1, 0, 0, 0, 0, 1, 0, 0, 0, 0, 0, 0,\n",
       "       0, 1, 1, 0, 0, 0, 0, 0, 0, 0, 0, 1, 0, 0, 0, 1, 0, 0, 0, 0, 1, 0,\n",
       "       0, 1, 0, 0, 0, 0, 0, 0, 0, 1, 0, 0, 1, 0, 0, 0, 0, 0, 1, 0, 0, 0,\n",
       "       0, 0, 1, 0, 0, 1, 0, 0, 0, 0, 0, 1, 0, 0, 0, 0, 1, 0, 0, 0, 1, 0,\n",
       "       0, 0, 0, 0, 0, 1, 0, 0, 0, 1, 0, 1, 0, 0, 0, 0, 0, 1, 0, 0, 0, 0,\n",
       "       0, 0, 1, 0, 0, 0, 1, 0, 0, 0, 1, 0, 0, 0, 0, 1, 0, 0, 0, 0, 0, 0,\n",
       "       0, 1, 1, 0, 0, 0, 0, 1, 0, 0, 0, 0, 0, 1, 0, 0, 0, 0, 1, 0, 0, 0,\n",
       "       0, 1, 0, 0, 0, 1, 0, 0, 0, 1, 0, 0, 0, 0, 0, 0, 0, 1, 0, 0, 0, 0,\n",
       "       1, 0, 0, 0, 0, 1, 1, 0, 0, 0, 0, 0, 0, 1, 0, 1, 0, 0, 0, 0, 0, 0,\n",
       "       0, 0, 1, 0, 0, 0, 1, 0, 1, 0, 0, 0, 0, 0, 0, 0, 1, 0, 1, 0, 0, 0,\n",
       "       0, 1, 0, 0, 0, 0, 1, 0, 0, 0, 0, 0, 0, 1, 0, 0, 0, 0, 1, 0, 0, 0,\n",
       "       1, 0, 0, 0, 0, 0, 0, 1, 0, 0, 0, 0, 0, 1, 0, 0, 0, 0, 1, 0, 0, 0,\n",
       "       0, 0, 0, 0, 0, 0, 1, 0, 0, 0, 0, 0, 1, 0, 0, 0, 0, 0, 0, 0, 0, 0,\n",
       "       1, 0, 0, 0, 0, 0, 0, 0, 0, 0, 0, 0, 0, 0, 0, 1, 0, 0, 1, 0, 0, 0,\n",
       "       0, 0, 0, 0, 0, 0, 0, 0, 0, 0, 1, 0, 0, 0, 0, 0, 0, 0, 0, 1, 0, 0,\n",
       "       0, 0, 0, 0, 0, 1, 0, 0, 0, 0, 0, 1, 0, 0, 0])"
      ]
     },
     "execution_count": 8,
     "metadata": {},
     "output_type": "execute_result"
    }
   ],
   "source": [
    "#Viewing the sliced label data\n",
    "y"
   ]
  },
  {
   "cell_type": "markdown",
   "metadata": {},
   "source": [
    "## 2. Splitting the dataset into the Training set and Test set\n"
   ]
  },
  {
   "cell_type": "markdown",
   "metadata": {},
   "source": [
    "Data is spilt with random_state = 0 that is the data remains the same throughout the entire execution and for all the algorithms. This is done to maintain consistency"
   ]
  },
  {
   "cell_type": "code",
   "execution_count": 9,
   "metadata": {},
   "outputs": [],
   "source": [
    "# Using Skicit-learn to split data into training and testing sets\n",
    "from sklearn.model_selection import train_test_split\n",
    "\n",
    "X_train, X_test, y_train, y_test = train_test_split(X, y, test_size = 0.26, random_state = 0)"
   ]
  },
  {
   "cell_type": "code",
   "execution_count": 10,
   "metadata": {},
   "outputs": [
    {
     "name": "stdout",
     "output_type": "stream",
     "text": [
      "Training Features Shape: (304, 13)\n",
      "Training Labels Shape: (304,)\n",
      "Testing Features Shape: (107, 13)\n",
      "Testing Labels Shape: (107,)\n"
     ]
    }
   ],
   "source": [
    "print('Training Features Shape:', X_train.shape)\n",
    "print('Training Labels Shape:', y_train.shape)\n",
    "print('Testing Features Shape:', X_test.shape)\n",
    "print('Testing Labels Shape:', y_test.shape)"
   ]
  },
  {
   "cell_type": "markdown",
   "metadata": {},
   "source": [
    "Functions which will be used throughout the entire code"
   ]
  },
  {
   "cell_type": "markdown",
   "metadata": {},
   "source": [
    "1. This function will be used plot the confusion matrix"
   ]
  },
  {
   "cell_type": "code",
   "execution_count": 11,
   "metadata": {},
   "outputs": [],
   "source": [
    "from sklearn.metrics import confusion_matrix\n",
    "import itertools\n",
    "\n",
    "def plot_confusion_matrix(cm, classes,\n",
    "                          normalize=False,\n",
    "                          title='Confusion matrix',\n",
    "                          cmap=plt.cm.Oranges):\n",
    "    \"\"\"\n",
    "    This function prints and plots the confusion matrix.\n",
    "    Normalization can be applied by setting `normalize=True`.\n",
    "    Source: http://scikit-learn.org/stable/auto_examples/model_selection/plot_confusion_matrix.html\n",
    "    \"\"\"\n",
    "    if normalize:\n",
    "        cm = cm.astype('float') / cm.sum(axis=1)[:, np.newaxis]\n",
    "        print(\"Normalized confusion matrix\")\n",
    "    else:\n",
    "        print('Confusion matrix, without normalization')\n",
    "\n",
    "    print(cm)\n",
    "\n",
    "    plt.figure(figsize = (10, 10))\n",
    "    plt.imshow(cm, interpolation='nearest', cmap=cmap)\n",
    "    plt.title(title, size = 24)\n",
    "    plt.colorbar(aspect=4)\n",
    "    tick_marks = np.arange(len(classes))\n",
    "    plt.xticks(tick_marks, classes, rotation=45, size = 14)\n",
    "    plt.yticks(tick_marks, classes, size = 14)\n",
    "\n",
    "    fmt = '.2f' if normalize else 'd'\n",
    "    thresh = cm.max() / 2.\n",
    "    \n",
    "    # Labeling the plot\n",
    "    for i, j in itertools.product(range(cm.shape[0]), range(cm.shape[1])):\n",
    "        plt.text(j, i, format(cm[i, j], fmt), fontsize = 20,\n",
    "                 horizontalalignment=\"center\",\n",
    "                 color=\"white\" if cm[i, j] > thresh else \"black\")\n",
    "        \n",
    "    plt.grid(None)\n",
    "    plt.tight_layout()\n",
    "    plt.ylabel('True label', size = 18)\n",
    "    plt.xlabel('Predicted label', size = 18)"
   ]
  },
  {
   "cell_type": "markdown",
   "metadata": {},
   "source": [
    "2. This function will be used to plot the ROC curves"
   ]
  },
  {
   "cell_type": "code",
   "execution_count": 12,
   "metadata": {},
   "outputs": [],
   "source": [
    "def evaluate_model(predictions_lr, probs_lr, train_predictions_lr, train_probs_lr):\n",
    "    \"\"\"Compare machine learning model to baseline performance.\n",
    "    Computes statistics and shows ROC curve.\"\"\"\n",
    "    \n",
    "    baseline = {}\n",
    "    \n",
    "    baseline['recall'] = recall_score(y_test, [1 for _ in range(len(y_test))])\n",
    "    baseline['precision'] = precision_score(y_test, [1 for _ in range(len(y_test))])\n",
    "    baseline['roc'] = 0.5\n",
    "    \n",
    "    results = {}\n",
    "    \n",
    "    results['recall'] = recall_score(y_test, predictions_lr)\n",
    "    results['precision'] = precision_score(y_test, predictions_lr)\n",
    "    results['roc'] = roc_auc_score(y_test, probs_lr)\n",
    "    \n",
    "    train_results = {}\n",
    "    train_results['recall'] = recall_score(y_train, train_predictions_lr)\n",
    "    train_results['precision'] = precision_score(y_train, train_predictions_lr)\n",
    "    train_results['roc'] = roc_auc_score(y_train, train_probs_lr)\n",
    "    \n",
    "    for metric in ['recall', 'precision', 'roc']:\n",
    "        print(f'{metric.capitalize()} Baseline: {round(baseline[metric], 2)} Test: {round(results[metric], 2)} Train: {round(train_results[metric], 2)}')\n",
    "    \n",
    "    # Calculate false positive rates and true positive rates\n",
    "    base_fpr, base_tpr, _ = roc_curve(y_test, [1 for _ in range(len(y_test))])\n",
    "    model_fpr, model_tpr, _ = roc_curve(y_test, probs_lr)\n",
    "\n",
    "    plt.figure(figsize = (8, 6))\n",
    "    plt.rcParams['font.size'] = 16\n",
    "    \n",
    "    # Plot both curves\n",
    "    plt.plot(base_fpr, base_tpr, 'g', label = 'baseline')\n",
    "    plt.plot(model_fpr, model_tpr, 'r', label = 'model')\n",
    "    plt.legend();\n",
    "    plt.xlabel('False Positive Rate'); plt.ylabel('True Positive Rate'); plt.title('ROC Curves');"
   ]
  },
  {
   "cell_type": "markdown",
   "metadata": {},
   "source": [
    "# Naive Bayes \n",
    "Naive Bayes is a very good method for classification as it uses probabilites for prediction. Since predicting oscars is using probabilities, this will be a good option.\n",
    "\n",
    "The first 2 steps will be the same and now we move on to fit the Oscar data to the logisitic regression model"
   ]
  },
  {
   "cell_type": "markdown",
   "metadata": {},
   "source": [
    "## 3. Fitting Naive Bayes to the training set"
   ]
  },
  {
   "cell_type": "code",
   "execution_count": 13,
   "metadata": {},
   "outputs": [
    {
     "data": {
      "text/plain": [
       "GaussianNB(priors=None, var_smoothing=1e-09)"
      ]
     },
     "execution_count": 13,
     "metadata": {},
     "output_type": "execute_result"
    }
   ],
   "source": [
    "from sklearn.naive_bayes import GaussianNB\n",
    "classifier_nb = GaussianNB()\n",
    "classifier_nb.fit(X_train, y_train)"
   ]
  },
  {
   "cell_type": "markdown",
   "metadata": {},
   "source": [
    "## 4. Classes and Class prior based on model"
   ]
  },
  {
   "cell_type": "code",
   "execution_count": 14,
   "metadata": {},
   "outputs": [
    {
     "name": "stdout",
     "output_type": "stream",
     "text": [
      "Classes and their prior -\n",
      "0 : 0.83\n",
      "1 : 0.17\n"
     ]
    }
   ],
   "source": [
    "print(\"Classes and their prior -\")\n",
    "print(classifier_nb.classes_[0], \":\", round(classifier_nb.class_prior_[0],2))\n",
    "print(classifier_nb.classes_[1], \":\", round(classifier_nb.class_prior_[1],2))"
   ]
  },
  {
   "cell_type": "markdown",
   "metadata": {},
   "source": [
    "## 5. Assess Naive Bayes Performance"
   ]
  },
  {
   "cell_type": "code",
   "execution_count": 15,
   "metadata": {},
   "outputs": [],
   "source": [
    "# Predicting the Test set results\n",
    "y_pred_nb = classifier_nb.predict(X_test)"
   ]
  },
  {
   "cell_type": "code",
   "execution_count": 16,
   "metadata": {},
   "outputs": [],
   "source": [
    "# Making the Confusion Matrix\n",
    "from sklearn.metrics import confusion_matrix\n",
    "cm = confusion_matrix(y_test, y_pred_nb)"
   ]
  },
  {
   "cell_type": "code",
   "execution_count": 17,
   "metadata": {},
   "outputs": [
    {
     "name": "stdout",
     "output_type": "stream",
     "text": [
      "Confusion matrix, without normalization\n",
      "[[82  3]\n",
      " [21  1]]\n"
     ]
    },
    {
     "data": {
      "image/png": "[encoded data removed]",
      "text/plain": [
       "<Figure size 720x720 with 2 Axes>"
      ]
     },
     "metadata": {
      "needs_background": "light"
     },
     "output_type": "display_data"
    }
   ],
   "source": [
    "plot_confusion_matrix(cm, classes = ['Lost Oscar', 'Won Oscar'],\n",
    "                      title = 'Oscar Confusion Matrix',cmap=plt.cm.Blues)"
   ]
  },
  {
   "cell_type": "markdown",
   "metadata": {},
   "source": [
    "<b> This matrix shows that there are 82+1=83 correct predictions and only 21+3=24 incorrect predictions.\n",
    "The naive bayes model predicts 21 false negatives which means the movies which actually won the oscar but predicted that the movie lost and the model also predicted 3 false postives which means the movies which actually lost the oscar but predicted that the movie won the oscar. So in all, the model predicts more false negatives which is good. This could be improved using a Random Forest Classifier</b>"
   ]
  },
  {
   "cell_type": "code",
   "execution_count": 18,
   "metadata": {},
   "outputs": [
    {
     "name": "stdout",
     "output_type": "stream",
     "text": [
      "Accuracy 0.7757009345794392\n"
     ]
    }
   ],
   "source": [
    "from sklearn import metrics\n",
    "print(\"Accuracy\", metrics.accuracy_score(y_test, y_pred_nb))"
   ]
  },
  {
   "cell_type": "code",
   "execution_count": 19,
   "metadata": {},
   "outputs": [],
   "source": [
    "# Make probability predictions\n",
    "train_probs_nb = classifier_nb.predict_proba(X_train)[:, 1]\n",
    "probs_nb = classifier_nb.predict_proba(X_test)[:, 1]\n",
    "\n",
    "train_predictions_nb = classifier_nb.predict(X_train)\n",
    "predictions_nb = classifier_nb.predict(X_test)"
   ]
  },
  {
   "cell_type": "code",
   "execution_count": 20,
   "metadata": {},
   "outputs": [
    {
     "name": "stdout",
     "output_type": "stream",
     "text": [
      "Train ROC AUC Score: 0.6678944598962641\n",
      "Test ROC AUC  Score: 0.6053475935828877\n"
     ]
    }
   ],
   "source": [
    "from sklearn.metrics import precision_score, recall_score, roc_auc_score, roc_curve\n",
    "\n",
    "print(f'Train ROC AUC Score: {roc_auc_score(y_train, train_probs_nb)}')\n",
    "print(f'Test ROC AUC  Score: {roc_auc_score(y_test, probs_nb)}')"
   ]
  },
  {
   "cell_type": "code",
   "execution_count": 21,
   "metadata": {},
   "outputs": [
    {
     "name": "stdout",
     "output_type": "stream",
     "text": [
      "Baseline ROC AUC: 0.5\n"
     ]
    }
   ],
   "source": [
    "print(f'Baseline ROC AUC: {roc_auc_score(y_test, [1 for _ in range(len(y_test))])}')"
   ]
  },
  {
   "cell_type": "code",
   "execution_count": 22,
   "metadata": {},
   "outputs": [
    {
     "name": "stdout",
     "output_type": "stream",
     "text": [
      "Recall Baseline: 1.0 Test: 0.05 Train: 0.13\n",
      "Precision Baseline: 0.21 Test: 0.25 Train: 0.5\n",
      "Roc Baseline: 0.5 Test: 0.61 Train: 0.67\n"
     ]
    },
    {
     "data": {
      "image/png": "[encoded data removed]",
      "text/plain": [
       "<Figure size 576x432 with 1 Axes>"
      ]
     },
     "metadata": {
      "needs_background": "light"
     },
     "output_type": "display_data"
    }
   ],
   "source": [
    "evaluate_model(predictions_nb, probs_nb, train_predictions_nb, train_probs_nb)"
   ]
  },
  {
   "cell_type": "markdown",
   "metadata": {},
   "source": [
    "## 6. Finally our Naive Bayes Model predicts the Oscars"
   ]
  },
  {
   "cell_type": "code",
   "execution_count": 23,
   "metadata": {},
   "outputs": [],
   "source": [
    "test_features = dataset[feature_list].values\n",
    "\n",
    "pred_naive = classifier_nb.predict_proba(test_features)[:,1]\n",
    "movie_name = np.array(dataset['title'])\n",
    "year = np.array(dataset['year'])\n",
    "won_oscar = np.array(dataset['won_oscar'])"
   ]
  },
  {
   "cell_type": "code",
   "execution_count": 24,
   "metadata": {},
   "outputs": [],
   "source": [
    "naive_prediction = pd.DataFrame(pred_naive,movie_name,columns =[\"Probability\"] )\n",
    "naive_prediction[\"Year\"] = year \n",
    "naive_prediction[\"Won Oscar\"] = won_oscar"
   ]
  },
  {
   "cell_type": "code",
   "execution_count": 25,
   "metadata": {},
   "outputs": [
    {
     "data": {
      "text/html": [
       "<div>\n",
       "<style scoped>\n",
       "    .dataframe tbody tr th:only-of-type {\n",
       "        vertical-align: middle;\n",
       "    }\n",
       "\n",
       "    .dataframe tbody tr th {\n",
       "        vertical-align: top;\n",
       "    }\n",
       "\n",
       "    .dataframe thead th {\n",
       "        text-align: right;\n",
       "    }\n",
       "</style>\n",
       "<table border=\"1\" class=\"dataframe\">\n",
       "  <thead>\n",
       "    <tr style=\"text-align: right;\">\n",
       "      <th></th>\n",
       "      <th>Probability</th>\n",
       "      <th>Year</th>\n",
       "      <th>Won Oscar</th>\n",
       "    </tr>\n",
       "  </thead>\n",
       "  <tbody>\n",
       "    <tr>\n",
       "      <th>Arrival</th>\n",
       "      <td>0.050988</td>\n",
       "      <td>2016</td>\n",
       "      <td>0</td>\n",
       "    </tr>\n",
       "    <tr>\n",
       "      <th>Fences</th>\n",
       "      <td>0.026981</td>\n",
       "      <td>2016</td>\n",
       "      <td>0</td>\n",
       "    </tr>\n",
       "    <tr>\n",
       "      <th>Hacksaw Ridge</th>\n",
       "      <td>0.037200</td>\n",
       "      <td>2016</td>\n",
       "      <td>0</td>\n",
       "    </tr>\n",
       "    <tr>\n",
       "      <th>Hell or High Water</th>\n",
       "      <td>0.028102</td>\n",
       "      <td>2016</td>\n",
       "      <td>0</td>\n",
       "    </tr>\n",
       "    <tr>\n",
       "      <th>Hidden Figures</th>\n",
       "      <td>0.028228</td>\n",
       "      <td>2016</td>\n",
       "      <td>0</td>\n",
       "    </tr>\n",
       "    <tr>\n",
       "      <th>La La Land</th>\n",
       "      <td>0.041534</td>\n",
       "      <td>2016</td>\n",
       "      <td>0</td>\n",
       "    </tr>\n",
       "    <tr>\n",
       "      <th>Lion</th>\n",
       "      <td>0.028417</td>\n",
       "      <td>2016</td>\n",
       "      <td>0</td>\n",
       "    </tr>\n",
       "    <tr>\n",
       "      <th>Manchester by the Sea</th>\n",
       "      <td>0.029393</td>\n",
       "      <td>2016</td>\n",
       "      <td>0</td>\n",
       "    </tr>\n",
       "    <tr>\n",
       "      <th>Moonlight</th>\n",
       "      <td>0.029331</td>\n",
       "      <td>2016</td>\n",
       "      <td>1</td>\n",
       "    </tr>\n",
       "    <tr>\n",
       "      <th>Call Me by Your Name</th>\n",
       "      <td>0.027758</td>\n",
       "      <td>2017</td>\n",
       "      <td>0</td>\n",
       "    </tr>\n",
       "    <tr>\n",
       "      <th>Darkest Hour</th>\n",
       "      <td>0.027472</td>\n",
       "      <td>2017</td>\n",
       "      <td>0</td>\n",
       "    </tr>\n",
       "    <tr>\n",
       "      <th>Dunkirk</th>\n",
       "      <td>0.044161</td>\n",
       "      <td>2017</td>\n",
       "      <td>0</td>\n",
       "    </tr>\n",
       "    <tr>\n",
       "      <th>Get Out</th>\n",
       "      <td>0.038238</td>\n",
       "      <td>2017</td>\n",
       "      <td>0</td>\n",
       "    </tr>\n",
       "    <tr>\n",
       "      <th>Ladybird</th>\n",
       "      <td>0.027641</td>\n",
       "      <td>2017</td>\n",
       "      <td>0</td>\n",
       "    </tr>\n",
       "    <tr>\n",
       "      <th>Phantom Thread</th>\n",
       "      <td>0.026760</td>\n",
       "      <td>2017</td>\n",
       "      <td>0</td>\n",
       "    </tr>\n",
       "    <tr>\n",
       "      <th>The Post</th>\n",
       "      <td>0.026586</td>\n",
       "      <td>2017</td>\n",
       "      <td>0</td>\n",
       "    </tr>\n",
       "    <tr>\n",
       "      <th>The Shape of Water</th>\n",
       "      <td>0.032273</td>\n",
       "      <td>2017</td>\n",
       "      <td>1</td>\n",
       "    </tr>\n",
       "    <tr>\n",
       "      <th>Three Billboards Outside Ebbing, Missouri</th>\n",
       "      <td>0.034474</td>\n",
       "      <td>2017</td>\n",
       "      <td>0</td>\n",
       "    </tr>\n",
       "    <tr>\n",
       "      <th>Black Panther</th>\n",
       "      <td>0.047965</td>\n",
       "      <td>2018</td>\n",
       "      <td>0</td>\n",
       "    </tr>\n",
       "    <tr>\n",
       "      <th>BlacKkKlansman</th>\n",
       "      <td>0.027050</td>\n",
       "      <td>2018</td>\n",
       "      <td>0</td>\n",
       "    </tr>\n",
       "    <tr>\n",
       "      <th>Bohemian Rhapsody</th>\n",
       "      <td>0.033908</td>\n",
       "      <td>2018</td>\n",
       "      <td>0</td>\n",
       "    </tr>\n",
       "    <tr>\n",
       "      <th>The Favourite</th>\n",
       "      <td>0.026600</td>\n",
       "      <td>2018</td>\n",
       "      <td>0</td>\n",
       "    </tr>\n",
       "    <tr>\n",
       "      <th>Green Book</th>\n",
       "      <td>0.028264</td>\n",
       "      <td>2018</td>\n",
       "      <td>1</td>\n",
       "    </tr>\n",
       "    <tr>\n",
       "      <th>Roma</th>\n",
       "      <td>0.026817</td>\n",
       "      <td>2018</td>\n",
       "      <td>0</td>\n",
       "    </tr>\n",
       "    <tr>\n",
       "      <th>A Star Is Born</th>\n",
       "      <td>0.028545</td>\n",
       "      <td>2018</td>\n",
       "      <td>0</td>\n",
       "    </tr>\n",
       "    <tr>\n",
       "      <th>Vice</th>\n",
       "      <td>0.026500</td>\n",
       "      <td>2018</td>\n",
       "      <td>0</td>\n",
       "    </tr>\n",
       "  </tbody>\n",
       "</table>\n",
       "</div>"
      ],
      "text/plain": [
       "                                           Probability  Year  Won Oscar\n",
       "Arrival                                       0.050988  2016          0\n",
       "Fences                                        0.026981  2016          0\n",
       "Hacksaw Ridge                                 0.037200  2016          0\n",
       "Hell or High Water                            0.028102  2016          0\n",
       "Hidden Figures                                0.028228  2016          0\n",
       "La La Land                                    0.041534  2016          0\n",
       "Lion                                          0.028417  2016          0\n",
       "Manchester by the Sea                         0.029393  2016          0\n",
       "Moonlight                                     0.029331  2016          1\n",
       "Call Me by Your Name                          0.027758  2017          0\n",
       "Darkest Hour                                  0.027472  2017          0\n",
       "Dunkirk                                       0.044161  2017          0\n",
       "Get Out                                       0.038238  2017          0\n",
       "Ladybird                                      0.027641  2017          0\n",
       "Phantom Thread                                0.026760  2017          0\n",
       "The Post                                      0.026586  2017          0\n",
       "The Shape of Water                            0.032273  2017          1\n",
       "Three Billboards Outside Ebbing, Missouri     0.034474  2017          0\n",
       "Black Panther                                 0.047965  2018          0\n",
       "BlacKkKlansman                                0.027050  2018          0\n",
       "Bohemian Rhapsody                             0.033908  2018          0\n",
       "The Favourite                                 0.026600  2018          0\n",
       "Green Book                                    0.028264  2018          1\n",
       "Roma                                          0.026817  2018          0\n",
       "A Star Is Born                                0.028545  2018          0\n",
       "Vice                                          0.026500  2018          0"
      ]
     },
     "execution_count": 25,
     "metadata": {},
     "output_type": "execute_result"
    }
   ],
   "source": [
    "naive_prediction.tail(26)"
   ]
  },
  {
   "cell_type": "markdown",
   "metadata": {},
   "source": [
    "</br>\n",
    "<center>\n",
    "    <img src = predictions.jpg width = 400 />\n",
    "    *Please work...*\n",
    "</center>"
   ]
  },
  {
   "cell_type": "markdown",
   "metadata": {},
   "source": [
    "<b>The navie bayes model is a start to our machine learning classification problem for predicting the Oscars. It did not give us good results with the test data and it also does not predict correct results. It predicts \"Bohemian Rhapsody\" as the Oscar winner rather than the actual winner \"Green Book\"</b> "
   ]
  },
  {
   "cell_type": "markdown",
   "metadata": {},
   "source": [
    "# Logistic Regression \n",
    "\n",
    "Logistic regression is the go-to method for binary classification problems (problems with two class values). We started off our Oscar prediction with trying out logistic regression."
   ]
  },
  {
   "cell_type": "markdown",
   "metadata": {},
   "source": [
    "## 3. Fitting Logistic Regression to the data set"
   ]
  },
  {
   "cell_type": "code",
   "execution_count": 26,
   "metadata": {},
   "outputs": [
    {
     "data": {
      "text/plain": [
       "LogisticRegression(C=1.0, class_weight=None, dual=False, fit_intercept=True,\n",
       "          intercept_scaling=1, max_iter=100, multi_class='warn',\n",
       "          n_jobs=None, penalty='l2', random_state=0, solver='lbfgs',\n",
       "          tol=0.0001, verbose=0, warm_start=False)"
      ]
     },
     "execution_count": 26,
     "metadata": {},
     "output_type": "execute_result"
    }
   ],
   "source": [
    "from sklearn.linear_model import LogisticRegression\n",
    "classifier_lr = LogisticRegression(random_state=0,solver=\"lbfgs\")\n",
    "classifier_lr.fit(X_train, y_train)"
   ]
  },
  {
   "cell_type": "markdown",
   "metadata": {},
   "source": [
    "## 4. Assess Logistic Regression Performance"
   ]
  },
  {
   "cell_type": "markdown",
   "metadata": {},
   "source": [
    "#### Confusion Matrix for Logistic Regression"
   ]
  },
  {
   "cell_type": "code",
   "execution_count": 27,
   "metadata": {},
   "outputs": [],
   "source": [
    "# Predicting the Test set results\n",
    "y_pred_lr = classifier_lr.predict(X_test)"
   ]
  },
  {
   "cell_type": "code",
   "execution_count": 28,
   "metadata": {},
   "outputs": [
    {
     "name": "stdout",
     "output_type": "stream",
     "text": [
      "Confusion matrix, without normalization\n",
      "[[85  0]\n",
      " [21  1]]\n"
     ]
    },
    {
     "data": {
      "image/png": "[encoded data removed]",
      "text/plain": [
       "<Figure size 720x720 with 2 Axes>"
      ]
     },
     "metadata": {
      "needs_background": "light"
     },
     "output_type": "display_data"
    }
   ],
   "source": [
    "from sklearn.metrics import confusion_matrix\n",
    "cm_lg = confusion_matrix(y_test, y_pred_lr)\n",
    "plot_confusion_matrix(cm_lg, classes = ['Lost Oscar', 'Won Oscar'],\n",
    "                      title = 'Oscar Confusion Matrix',cmap=plt.cm.Blues)"
   ]
  },
  {
   "cell_type": "markdown",
   "metadata": {},
   "source": [
    "<b>This matrix shows that there are 85+1=86 correct predictions and only 21+1=22 incorrect predictions. The logistic regression model predicts 21 false negatives which means the movies which actually won the oscar but predicted that the movie lost and the model also predicted 0 false postives which means the movies which actually lost the oscar but predicted that the movie won the oscar. \n",
    "\n",
    "\n",
    "The logistic regression model does not give us great results. Too many false negatives and not correct predictions</b>"
   ]
  },
  {
   "cell_type": "code",
   "execution_count": 29,
   "metadata": {},
   "outputs": [
    {
     "name": "stdout",
     "output_type": "stream",
     "text": [
      "Accuracy 0.8037383177570093\n"
     ]
    }
   ],
   "source": [
    "from sklearn import metrics\n",
    "print(\"Accuracy\", metrics.accuracy_score(y_test, y_pred_lr))"
   ]
  },
  {
   "cell_type": "markdown",
   "metadata": {},
   "source": [
    "<b>Let's try the k-Fold Cross Validation is applied to improve the model performance</b>\n",
    "\n",
    "\"This approach involves randomly dividing the set of observations into k groups, or folds, of approximately equal size. The first fold is treated as a validation set, and the method is fit on the remaining k − 1 folds.\"\n",
    "\n",
    "— Page 181, An Introduction to Statistical Learning, 2013."
   ]
  },
  {
   "cell_type": "code",
   "execution_count": 30,
   "metadata": {},
   "outputs": [
    {
     "data": {
      "text/plain": [
       "0.8327486559139785"
      ]
     },
     "execution_count": 30,
     "metadata": {},
     "output_type": "execute_result"
    }
   ],
   "source": [
    "# Applying k-Fold Cross Validation\n",
    "from sklearn.model_selection import cross_val_score\n",
    "accuracies_lr = cross_val_score(estimator = classifier_lr, X = X_train, y = y_train, cv = 10)\n",
    "accuracies_lr.mean()"
   ]
  },
  {
   "cell_type": "markdown",
   "metadata": {},
   "source": [
    "<b>The Logistic Regression performance shows 83% which is good in it's terms.</b>"
   ]
  },
  {
   "cell_type": "markdown",
   "metadata": {},
   "source": [
    "Let's try and build a ROC curve to check the performance"
   ]
  },
  {
   "cell_type": "code",
   "execution_count": 31,
   "metadata": {},
   "outputs": [],
   "source": [
    "# Make probability predictions\n",
    "train_probs_lr = classifier_lr.predict_proba(X_train)[:, 1]\n",
    "probs_lr = classifier_lr.predict_proba(X_test)[:, 1]\n",
    "\n",
    "train_predictions_lr = classifier_lr.predict(X_train)\n",
    "predictions_lr = classifier_lr.predict(X_test)"
   ]
  },
  {
   "cell_type": "code",
   "execution_count": 32,
   "metadata": {},
   "outputs": [
    {
     "name": "stdout",
     "output_type": "stream",
     "text": [
      "Train ROC AUC Score: 0.5874614748552959\n",
      "Test ROC AUC  Score: 0.46310160427807484\n"
     ]
    }
   ],
   "source": [
    "from sklearn.metrics import precision_score, recall_score, roc_auc_score, roc_curve\n",
    "\n",
    "print(f'Train ROC AUC Score: {roc_auc_score(y_train, train_probs_lr)}')\n",
    "print(f'Test ROC AUC  Score: {roc_auc_score(y_test, probs_lr)}')"
   ]
  },
  {
   "cell_type": "code",
   "execution_count": 33,
   "metadata": {},
   "outputs": [
    {
     "name": "stdout",
     "output_type": "stream",
     "text": [
      "Baseline ROC AUC: 0.5\n"
     ]
    }
   ],
   "source": [
    "print(f'Baseline ROC AUC: {roc_auc_score(y_test, [1 for _ in range(len(y_test))])}')"
   ]
  },
  {
   "cell_type": "code",
   "execution_count": 34,
   "metadata": {},
   "outputs": [
    {
     "name": "stdout",
     "output_type": "stream",
     "text": [
      "Recall Baseline: 1.0 Test: 0.05 Train: 0.13\n",
      "Precision Baseline: 0.21 Test: 1.0 Train: 0.7\n",
      "Roc Baseline: 0.5 Test: 0.46 Train: 0.59\n"
     ]
    },
    {
     "data": {
      "image/png": "[encoded data removed]",
      "text/plain": [
       "<Figure size 576x432 with 1 Axes>"
      ]
     },
     "metadata": {
      "needs_background": "light"
     },
     "output_type": "display_data"
    }
   ],
   "source": [
    "evaluate_model(predictions_lr, probs_lr, train_predictions_lr, train_probs_lr)"
   ]
  },
  {
   "cell_type": "markdown",
   "metadata": {},
   "source": [
    "<b> Our Logistic regression gives a score of 59 for training data but 46 for test which are bad results."
   ]
  },
  {
   "cell_type": "markdown",
   "metadata": {},
   "source": [
    "## 5. Finally the Logistic Regression Model predicts the Oscars"
   ]
  },
  {
   "cell_type": "code",
   "execution_count": 35,
   "metadata": {},
   "outputs": [
    {
     "data": {
      "text/html": [
       "<div>\n",
       "<style scoped>\n",
       "    .dataframe tbody tr th:only-of-type {\n",
       "        vertical-align: middle;\n",
       "    }\n",
       "\n",
       "    .dataframe tbody tr th {\n",
       "        vertical-align: top;\n",
       "    }\n",
       "\n",
       "    .dataframe thead th {\n",
       "        text-align: right;\n",
       "    }\n",
       "</style>\n",
       "<table border=\"1\" class=\"dataframe\">\n",
       "  <thead>\n",
       "    <tr style=\"text-align: right;\">\n",
       "      <th></th>\n",
       "      <th>year</th>\n",
       "      <th>category</th>\n",
       "      <th>title</th>\n",
       "      <th>genres</th>\n",
       "      <th>MovieLensrating</th>\n",
       "      <th>runtimeMinutes</th>\n",
       "      <th>IMDBRating</th>\n",
       "      <th>imdb_numVotes</th>\n",
       "      <th>RottenCriticRating</th>\n",
       "      <th>rottencritic_numVotes</th>\n",
       "      <th>RottenRating</th>\n",
       "      <th>rotten_numVotes</th>\n",
       "      <th>won_bafta</th>\n",
       "      <th>won_sa</th>\n",
       "      <th>won_sag</th>\n",
       "      <th>won_cc</th>\n",
       "      <th>won_dga</th>\n",
       "      <th>won_nbra</th>\n",
       "      <th>won_oscar</th>\n",
       "    </tr>\n",
       "  </thead>\n",
       "  <tbody>\n",
       "    <tr>\n",
       "      <th>277</th>\n",
       "      <td>2000</td>\n",
       "      <td>BEST PICTURE</td>\n",
       "      <td>Chocolat</td>\n",
       "      <td>Drama|Romance</td>\n",
       "      <td>3.68</td>\n",
       "      <td>121</td>\n",
       "      <td>7.3</td>\n",
       "      <td>167453</td>\n",
       "      <td>62</td>\n",
       "      <td>117</td>\n",
       "      <td>83</td>\n",
       "      <td>328835</td>\n",
       "      <td>0</td>\n",
       "      <td>0</td>\n",
       "      <td>0</td>\n",
       "      <td>0</td>\n",
       "      <td>0</td>\n",
       "      <td>0</td>\n",
       "      <td>0</td>\n",
       "    </tr>\n",
       "    <tr>\n",
       "      <th>278</th>\n",
       "      <td>2000</td>\n",
       "      <td>BEST PICTURE</td>\n",
       "      <td>Crouching Tiger, Hidden Dragon</td>\n",
       "      <td>Action|Adventure|Fantasy</td>\n",
       "      <td>3.54</td>\n",
       "      <td>120</td>\n",
       "      <td>7.9</td>\n",
       "      <td>238676</td>\n",
       "      <td>97</td>\n",
       "      <td>153</td>\n",
       "      <td>86</td>\n",
       "      <td>427169</td>\n",
       "      <td>0</td>\n",
       "      <td>1</td>\n",
       "      <td>0</td>\n",
       "      <td>0</td>\n",
       "      <td>1</td>\n",
       "      <td>1</td>\n",
       "      <td>0</td>\n",
       "    </tr>\n",
       "    <tr>\n",
       "      <th>279</th>\n",
       "      <td>2000</td>\n",
       "      <td>BEST PICTURE</td>\n",
       "      <td>Erin Brockovich</td>\n",
       "      <td>Drama</td>\n",
       "      <td>3.58</td>\n",
       "      <td>131</td>\n",
       "      <td>7.3</td>\n",
       "      <td>157701</td>\n",
       "      <td>84</td>\n",
       "      <td>145</td>\n",
       "      <td>81</td>\n",
       "      <td>418491</td>\n",
       "      <td>0</td>\n",
       "      <td>0</td>\n",
       "      <td>0</td>\n",
       "      <td>0</td>\n",
       "      <td>0</td>\n",
       "      <td>0</td>\n",
       "      <td>0</td>\n",
       "    </tr>\n",
       "    <tr>\n",
       "      <th>280</th>\n",
       "      <td>2000</td>\n",
       "      <td>BEST PICTURE</td>\n",
       "      <td>Gladiator</td>\n",
       "      <td>Action|Adventure|Drama</td>\n",
       "      <td>3.96</td>\n",
       "      <td>155</td>\n",
       "      <td>8.5</td>\n",
       "      <td>1197072</td>\n",
       "      <td>76</td>\n",
       "      <td>194</td>\n",
       "      <td>87</td>\n",
       "      <td>34128074</td>\n",
       "      <td>1</td>\n",
       "      <td>0</td>\n",
       "      <td>0</td>\n",
       "      <td>1</td>\n",
       "      <td>0</td>\n",
       "      <td>0</td>\n",
       "      <td>1</td>\n",
       "    </tr>\n",
       "    <tr>\n",
       "      <th>281</th>\n",
       "      <td>2000</td>\n",
       "      <td>BEST PICTURE</td>\n",
       "      <td>Traffic</td>\n",
       "      <td>Crime|Drama|Thriller</td>\n",
       "      <td>3.80</td>\n",
       "      <td>147</td>\n",
       "      <td>7.6</td>\n",
       "      <td>185430</td>\n",
       "      <td>92</td>\n",
       "      <td>158</td>\n",
       "      <td>85</td>\n",
       "      <td>190305</td>\n",
       "      <td>0</td>\n",
       "      <td>1</td>\n",
       "      <td>1</td>\n",
       "      <td>0</td>\n",
       "      <td>0</td>\n",
       "      <td>0</td>\n",
       "      <td>0</td>\n",
       "    </tr>\n",
       "  </tbody>\n",
       "</table>\n",
       "</div>"
      ],
      "text/plain": [
       "     year      category                           title  \\\n",
       "277  2000  BEST PICTURE                        Chocolat   \n",
       "278  2000  BEST PICTURE  Crouching Tiger, Hidden Dragon   \n",
       "279  2000  BEST PICTURE                 Erin Brockovich   \n",
       "280  2000  BEST PICTURE                       Gladiator   \n",
       "281  2000  BEST PICTURE                         Traffic   \n",
       "\n",
       "                       genres  MovieLensrating  runtimeMinutes  IMDBRating  \\\n",
       "277             Drama|Romance             3.68             121         7.3   \n",
       "278  Action|Adventure|Fantasy             3.54             120         7.9   \n",
       "279                     Drama             3.58             131         7.3   \n",
       "280    Action|Adventure|Drama             3.96             155         8.5   \n",
       "281      Crime|Drama|Thriller             3.80             147         7.6   \n",
       "\n",
       "     imdb_numVotes  RottenCriticRating  rottencritic_numVotes  RottenRating  \\\n",
       "277         167453                  62                    117            83   \n",
       "278         238676                  97                    153            86   \n",
       "279         157701                  84                    145            81   \n",
       "280        1197072                  76                    194            87   \n",
       "281         185430                  92                    158            85   \n",
       "\n",
       "     rotten_numVotes  won_bafta  won_sa  won_sag  won_cc  won_dga  won_nbra  \\\n",
       "277           328835          0       0        0       0        0         0   \n",
       "278           427169          0       1        0       0        1         1   \n",
       "279           418491          0       0        0       0        0         0   \n",
       "280         34128074          1       0        0       1        0         0   \n",
       "281           190305          0       1        1       0        0         0   \n",
       "\n",
       "     won_oscar  \n",
       "277          0  \n",
       "278          0  \n",
       "279          0  \n",
       "280          1  \n",
       "281          0  "
      ]
     },
     "execution_count": 35,
     "metadata": {},
     "output_type": "execute_result"
    }
   ],
   "source": [
    "# Separate the dataset into train and test to predict the Oscar's\n",
    "train_lr = dataset[dataset['year']<=2000]\n",
    "train_lr.tail()"
   ]
  },
  {
   "cell_type": "code",
   "execution_count": 36,
   "metadata": {},
   "outputs": [
    {
     "data": {
      "text/html": [
       "<div>\n",
       "<style scoped>\n",
       "    .dataframe tbody tr th:only-of-type {\n",
       "        vertical-align: middle;\n",
       "    }\n",
       "\n",
       "    .dataframe tbody tr th {\n",
       "        vertical-align: top;\n",
       "    }\n",
       "\n",
       "    .dataframe thead th {\n",
       "        text-align: right;\n",
       "    }\n",
       "</style>\n",
       "<table border=\"1\" class=\"dataframe\">\n",
       "  <thead>\n",
       "    <tr style=\"text-align: right;\">\n",
       "      <th></th>\n",
       "      <th>year</th>\n",
       "      <th>category</th>\n",
       "      <th>title</th>\n",
       "      <th>genres</th>\n",
       "      <th>MovieLensrating</th>\n",
       "      <th>runtimeMinutes</th>\n",
       "      <th>IMDBRating</th>\n",
       "      <th>imdb_numVotes</th>\n",
       "      <th>RottenCriticRating</th>\n",
       "      <th>rottencritic_numVotes</th>\n",
       "      <th>RottenRating</th>\n",
       "      <th>rotten_numVotes</th>\n",
       "      <th>won_bafta</th>\n",
       "      <th>won_sa</th>\n",
       "      <th>won_sag</th>\n",
       "      <th>won_cc</th>\n",
       "      <th>won_dga</th>\n",
       "      <th>won_nbra</th>\n",
       "      <th>won_oscar</th>\n",
       "    </tr>\n",
       "  </thead>\n",
       "  <tbody>\n",
       "    <tr>\n",
       "      <th>406</th>\n",
       "      <td>2018</td>\n",
       "      <td>BEST PICTURE</td>\n",
       "      <td>The Favourite</td>\n",
       "      <td>Drama|Comedy</td>\n",
       "      <td>3.82</td>\n",
       "      <td>119</td>\n",
       "      <td>7.7</td>\n",
       "      <td>103011</td>\n",
       "      <td>93</td>\n",
       "      <td>362</td>\n",
       "      <td>67</td>\n",
       "      <td>5754</td>\n",
       "      <td>0</td>\n",
       "      <td>1</td>\n",
       "      <td>0</td>\n",
       "      <td>0</td>\n",
       "      <td>0</td>\n",
       "      <td>0</td>\n",
       "      <td>0</td>\n",
       "    </tr>\n",
       "    <tr>\n",
       "      <th>407</th>\n",
       "      <td>2018</td>\n",
       "      <td>BEST PICTURE</td>\n",
       "      <td>Green Book</td>\n",
       "      <td>Drama|Comedy</td>\n",
       "      <td>3.94</td>\n",
       "      <td>130</td>\n",
       "      <td>8.3</td>\n",
       "      <td>170827</td>\n",
       "      <td>78</td>\n",
       "      <td>316</td>\n",
       "      <td>92</td>\n",
       "      <td>7859</td>\n",
       "      <td>0</td>\n",
       "      <td>0</td>\n",
       "      <td>0</td>\n",
       "      <td>0</td>\n",
       "      <td>0</td>\n",
       "      <td>1</td>\n",
       "      <td>1</td>\n",
       "    </tr>\n",
       "    <tr>\n",
       "      <th>408</th>\n",
       "      <td>2018</td>\n",
       "      <td>BEST PICTURE</td>\n",
       "      <td>Roma</td>\n",
       "      <td>Drama</td>\n",
       "      <td>3.76</td>\n",
       "      <td>135</td>\n",
       "      <td>7.8</td>\n",
       "      <td>100158</td>\n",
       "      <td>96</td>\n",
       "      <td>353</td>\n",
       "      <td>71</td>\n",
       "      <td>4667</td>\n",
       "      <td>1</td>\n",
       "      <td>1</td>\n",
       "      <td>0</td>\n",
       "      <td>1</td>\n",
       "      <td>1</td>\n",
       "      <td>0</td>\n",
       "      <td>0</td>\n",
       "    </tr>\n",
       "    <tr>\n",
       "      <th>409</th>\n",
       "      <td>2018</td>\n",
       "      <td>BEST PICTURE</td>\n",
       "      <td>A Star Is Born</td>\n",
       "      <td>Drama|Romance</td>\n",
       "      <td>3.67</td>\n",
       "      <td>135</td>\n",
       "      <td>7.8</td>\n",
       "      <td>229903</td>\n",
       "      <td>89</td>\n",
       "      <td>472</td>\n",
       "      <td>80</td>\n",
       "      <td>18019</td>\n",
       "      <td>0</td>\n",
       "      <td>1</td>\n",
       "      <td>0</td>\n",
       "      <td>0</td>\n",
       "      <td>0</td>\n",
       "      <td>0</td>\n",
       "      <td>0</td>\n",
       "    </tr>\n",
       "    <tr>\n",
       "      <th>410</th>\n",
       "      <td>2018</td>\n",
       "      <td>BEST PICTURE</td>\n",
       "      <td>Vice</td>\n",
       "      <td>Drama|Comedy</td>\n",
       "      <td>3.49</td>\n",
       "      <td>132</td>\n",
       "      <td>7.2</td>\n",
       "      <td>58938</td>\n",
       "      <td>66</td>\n",
       "      <td>326</td>\n",
       "      <td>58</td>\n",
       "      <td>3902</td>\n",
       "      <td>0</td>\n",
       "      <td>0</td>\n",
       "      <td>0</td>\n",
       "      <td>0</td>\n",
       "      <td>0</td>\n",
       "      <td>0</td>\n",
       "      <td>0</td>\n",
       "    </tr>\n",
       "  </tbody>\n",
       "</table>\n",
       "</div>"
      ],
      "text/plain": [
       "     year      category           title         genres  MovieLensrating  \\\n",
       "406  2018  BEST PICTURE   The Favourite   Drama|Comedy             3.82   \n",
       "407  2018  BEST PICTURE      Green Book   Drama|Comedy             3.94   \n",
       "408  2018  BEST PICTURE            Roma          Drama             3.76   \n",
       "409  2018  BEST PICTURE  A Star Is Born  Drama|Romance             3.67   \n",
       "410  2018  BEST PICTURE            Vice   Drama|Comedy             3.49   \n",
       "\n",
       "     runtimeMinutes  IMDBRating  imdb_numVotes  RottenCriticRating  \\\n",
       "406             119         7.7         103011                  93   \n",
       "407             130         8.3         170827                  78   \n",
       "408             135         7.8         100158                  96   \n",
       "409             135         7.8         229903                  89   \n",
       "410             132         7.2          58938                  66   \n",
       "\n",
       "     rottencritic_numVotes  RottenRating  rotten_numVotes  won_bafta  won_sa  \\\n",
       "406                    362            67             5754          0       1   \n",
       "407                    316            92             7859          0       0   \n",
       "408                    353            71             4667          1       1   \n",
       "409                    472            80            18019          0       1   \n",
       "410                    326            58             3902          0       0   \n",
       "\n",
       "     won_sag  won_cc  won_dga  won_nbra  won_oscar  \n",
       "406        0       0        0         0          0  \n",
       "407        0       0        0         1          1  \n",
       "408        0       1        1         0          0  \n",
       "409        0       0        0         0          0  \n",
       "410        0       0        0         0          0  "
      ]
     },
     "execution_count": 36,
     "metadata": {},
     "output_type": "execute_result"
    }
   ],
   "source": [
    "test_lr = dataset[dataset['year']>2000]\n",
    "test_lr.tail()"
   ]
  },
  {
   "cell_type": "code",
   "execution_count": 37,
   "metadata": {},
   "outputs": [
    {
     "data": {
      "text/plain": [
       "array([0, 0, 1, 0, 0, 0, 0, 1, 0, 0, 1, 0, 0, 0, 0, 0, 0, 1, 0, 0, 1, 0,\n",
       "       0, 0, 0, 1, 0, 0, 0, 0, 1, 0, 0, 0, 0, 1, 0, 0, 0, 0, 1, 0, 0, 0,\n",
       "       0, 1, 0, 0, 0, 0, 0, 0, 1, 0, 0, 0, 1, 0, 0, 0, 1, 0, 0, 0, 0, 1,\n",
       "       0, 0, 0, 0, 0, 0, 0, 1, 0, 0, 1, 0, 0, 0, 0, 1, 0, 0, 0, 0, 0, 0,\n",
       "       0, 1, 1, 0, 0, 0, 0, 0, 0, 0, 0, 1, 0, 0, 0, 1, 0, 0, 0, 0, 1, 0,\n",
       "       0, 1, 0, 0, 0, 0, 0, 0, 0, 1, 0, 0, 1, 0, 0, 0, 0, 0, 1, 0, 0, 0,\n",
       "       0, 0, 1, 0, 0, 1, 0, 0, 0, 0, 0, 1, 0, 0, 0, 0, 1, 0, 0, 0, 1, 0,\n",
       "       0, 0, 0, 0, 0, 1, 0, 0, 0, 1, 0, 1, 0, 0, 0, 0, 0, 1, 0, 0, 0, 0,\n",
       "       0, 0, 1, 0, 0, 0, 1, 0, 0, 0, 1, 0, 0, 0, 0, 1, 0, 0, 0, 0, 0, 0,\n",
       "       0, 1, 1, 0, 0, 0, 0, 1, 0, 0, 0, 0, 0, 1, 0, 0, 0, 0, 1, 0, 0, 0,\n",
       "       0, 1, 0, 0, 0, 1, 0, 0, 0, 1, 0, 0, 0, 0, 0, 0, 0, 1, 0, 0, 0, 0,\n",
       "       1, 0, 0, 0, 0, 1, 1, 0, 0, 0, 0, 0, 0, 1, 0, 1, 0, 0, 0, 0, 0, 0,\n",
       "       0, 0, 1, 0, 0, 0, 1, 0, 1, 0, 0, 0, 0, 0, 0, 0, 1, 0])"
      ]
     },
     "execution_count": 37,
     "metadata": {},
     "output_type": "execute_result"
    }
   ],
   "source": [
    "#target varaiable which you want to predict\n",
    "target_lr = train_lr['won_oscar'].values\n",
    "target_lr"
   ]
  },
  {
   "cell_type": "code",
   "execution_count": 38,
   "metadata": {},
   "outputs": [
    {
     "data": {
      "text/plain": [
       "array([[0. , 0. , 0. , 0. , 0. , 8.3],\n",
       "       [0. , 0. , 0. , 0. , 0. , 7.8],\n",
       "       [0. , 0. , 0. , 0. , 0. , 7.2],\n",
       "       ...,\n",
       "       [0. , 0. , 0. , 0. , 0. , 7.3],\n",
       "       [1. , 0. , 0. , 0. , 1. , 8.5],\n",
       "       [0. , 0. , 1. , 1. , 0. , 7.6]])"
      ]
     },
     "execution_count": 38,
     "metadata": {},
     "output_type": "execute_result"
    }
   ],
   "source": [
    "#Define the feature names based on which you want the Oscar's to be predicted\n",
    "feature_names_lr = [\n",
    "    'won_bafta',\n",
    "    'won_dga',\n",
    "    'won_sa',\n",
    "    'won_sag',\n",
    "    'won_cc',\n",
    "    'IMDBRating'\n",
    "]\n",
    "features_lr = train_lr[feature_names_lr].values\n",
    "features_lr"
   ]
  },
  {
   "cell_type": "code",
   "execution_count": 39,
   "metadata": {},
   "outputs": [
    {
     "data": {
      "text/plain": [
       "LogisticRegression(C=1.0, class_weight=None, dual=False, fit_intercept=True,\n",
       "          intercept_scaling=1, max_iter=100, multi_class='warn',\n",
       "          n_jobs=None, penalty='l2', random_state=0, solver='lbfgs',\n",
       "          tol=0.0001, verbose=0, warm_start=False)"
      ]
     },
     "execution_count": 39,
     "metadata": {},
     "output_type": "execute_result"
    }
   ],
   "source": [
    "classifier_lr.fit(features_lr, target_lr)"
   ]
  },
  {
   "cell_type": "code",
   "execution_count": 40,
   "metadata": {},
   "outputs": [],
   "source": [
    "test_features_lr = test_lr[feature_names_lr].values\n",
    "pred_LR = classifier_lr.predict_proba(test_features_lr)[:,1]"
   ]
  },
  {
   "cell_type": "code",
   "execution_count": 41,
   "metadata": {},
   "outputs": [],
   "source": [
    "movie_name = np.array(test_lr['title'])\n",
    "year = np.array(test_lr['year'])\n",
    "oscar = np.array(test_lr['won_oscar'])"
   ]
  },
  {
   "cell_type": "code",
   "execution_count": 42,
   "metadata": {},
   "outputs": [],
   "source": [
    "prediction = pd.DataFrame(pred_LR.round(2), movie_name,columns =[\"Probability\"] )\n",
    "prediction[\"year\"] = year\n",
    "prediction[\"Actually Oscar\"] = oscar"
   ]
  },
  {
   "cell_type": "code",
   "execution_count": 43,
   "metadata": {},
   "outputs": [
    {
     "data": {
      "text/html": [
       "<div>\n",
       "<style scoped>\n",
       "    .dataframe tbody tr th:only-of-type {\n",
       "        vertical-align: middle;\n",
       "    }\n",
       "\n",
       "    .dataframe tbody tr th {\n",
       "        vertical-align: top;\n",
       "    }\n",
       "\n",
       "    .dataframe thead th {\n",
       "        text-align: right;\n",
       "    }\n",
       "</style>\n",
       "<table border=\"1\" class=\"dataframe\">\n",
       "  <thead>\n",
       "    <tr style=\"text-align: right;\">\n",
       "      <th></th>\n",
       "      <th>Probability</th>\n",
       "      <th>year</th>\n",
       "      <th>Actually Oscar</th>\n",
       "    </tr>\n",
       "  </thead>\n",
       "  <tbody>\n",
       "    <tr>\n",
       "      <th>Arrival</th>\n",
       "      <td>0.08</td>\n",
       "      <td>2016</td>\n",
       "      <td>0</td>\n",
       "    </tr>\n",
       "    <tr>\n",
       "      <th>Fences</th>\n",
       "      <td>0.07</td>\n",
       "      <td>2016</td>\n",
       "      <td>0</td>\n",
       "    </tr>\n",
       "    <tr>\n",
       "      <th>Hacksaw Ridge</th>\n",
       "      <td>0.07</td>\n",
       "      <td>2016</td>\n",
       "      <td>0</td>\n",
       "    </tr>\n",
       "    <tr>\n",
       "      <th>Hell or High Water</th>\n",
       "      <td>0.07</td>\n",
       "      <td>2016</td>\n",
       "      <td>0</td>\n",
       "    </tr>\n",
       "    <tr>\n",
       "      <th>Hidden Figures</th>\n",
       "      <td>0.08</td>\n",
       "      <td>2016</td>\n",
       "      <td>0</td>\n",
       "    </tr>\n",
       "    <tr>\n",
       "      <th>La La Land</th>\n",
       "      <td>0.82</td>\n",
       "      <td>2016</td>\n",
       "      <td>0</td>\n",
       "    </tr>\n",
       "    <tr>\n",
       "      <th>Lion</th>\n",
       "      <td>0.67</td>\n",
       "      <td>2016</td>\n",
       "      <td>0</td>\n",
       "    </tr>\n",
       "    <tr>\n",
       "      <th>Manchester by the Sea</th>\n",
       "      <td>0.05</td>\n",
       "      <td>2016</td>\n",
       "      <td>0</td>\n",
       "    </tr>\n",
       "    <tr>\n",
       "      <th>Moonlight</th>\n",
       "      <td>0.06</td>\n",
       "      <td>2016</td>\n",
       "      <td>1</td>\n",
       "    </tr>\n",
       "    <tr>\n",
       "      <th>Call Me by Your Name</th>\n",
       "      <td>0.08</td>\n",
       "      <td>2017</td>\n",
       "      <td>0</td>\n",
       "    </tr>\n",
       "    <tr>\n",
       "      <th>Darkest Hour</th>\n",
       "      <td>0.07</td>\n",
       "      <td>2017</td>\n",
       "      <td>0</td>\n",
       "    </tr>\n",
       "    <tr>\n",
       "      <th>Dunkirk</th>\n",
       "      <td>0.08</td>\n",
       "      <td>2017</td>\n",
       "      <td>0</td>\n",
       "    </tr>\n",
       "    <tr>\n",
       "      <th>Get Out</th>\n",
       "      <td>0.07</td>\n",
       "      <td>2017</td>\n",
       "      <td>0</td>\n",
       "    </tr>\n",
       "    <tr>\n",
       "      <th>Ladybird</th>\n",
       "      <td>0.07</td>\n",
       "      <td>2017</td>\n",
       "      <td>0</td>\n",
       "    </tr>\n",
       "    <tr>\n",
       "      <th>Phantom Thread</th>\n",
       "      <td>0.07</td>\n",
       "      <td>2017</td>\n",
       "      <td>0</td>\n",
       "    </tr>\n",
       "    <tr>\n",
       "      <th>The Post</th>\n",
       "      <td>0.07</td>\n",
       "      <td>2017</td>\n",
       "      <td>0</td>\n",
       "    </tr>\n",
       "    <tr>\n",
       "      <th>The Shape of Water</th>\n",
       "      <td>0.62</td>\n",
       "      <td>2017</td>\n",
       "      <td>1</td>\n",
       "    </tr>\n",
       "    <tr>\n",
       "      <th>Three Billboards Outside Ebbing, Missouri</th>\n",
       "      <td>0.16</td>\n",
       "      <td>2017</td>\n",
       "      <td>0</td>\n",
       "    </tr>\n",
       "    <tr>\n",
       "      <th>Black Panther</th>\n",
       "      <td>0.07</td>\n",
       "      <td>2018</td>\n",
       "      <td>0</td>\n",
       "    </tr>\n",
       "    <tr>\n",
       "      <th>BlacKkKlansman</th>\n",
       "      <td>0.05</td>\n",
       "      <td>2018</td>\n",
       "      <td>0</td>\n",
       "    </tr>\n",
       "    <tr>\n",
       "      <th>Bohemian Rhapsody</th>\n",
       "      <td>0.08</td>\n",
       "      <td>2018</td>\n",
       "      <td>0</td>\n",
       "    </tr>\n",
       "    <tr>\n",
       "      <th>The Favourite</th>\n",
       "      <td>0.05</td>\n",
       "      <td>2018</td>\n",
       "      <td>0</td>\n",
       "    </tr>\n",
       "    <tr>\n",
       "      <th>Green Book</th>\n",
       "      <td>0.08</td>\n",
       "      <td>2018</td>\n",
       "      <td>1</td>\n",
       "    </tr>\n",
       "    <tr>\n",
       "      <th>Roma</th>\n",
       "      <td>0.80</td>\n",
       "      <td>2018</td>\n",
       "      <td>0</td>\n",
       "    </tr>\n",
       "    <tr>\n",
       "      <th>A Star Is Born</th>\n",
       "      <td>0.05</td>\n",
       "      <td>2018</td>\n",
       "      <td>0</td>\n",
       "    </tr>\n",
       "    <tr>\n",
       "      <th>Vice</th>\n",
       "      <td>0.07</td>\n",
       "      <td>2018</td>\n",
       "      <td>0</td>\n",
       "    </tr>\n",
       "  </tbody>\n",
       "</table>\n",
       "</div>"
      ],
      "text/plain": [
       "                                           Probability  year  Actually Oscar\n",
       "Arrival                                           0.08  2016               0\n",
       "Fences                                            0.07  2016               0\n",
       "Hacksaw Ridge                                     0.07  2016               0\n",
       "Hell or High Water                                0.07  2016               0\n",
       "Hidden Figures                                    0.08  2016               0\n",
       "La La Land                                        0.82  2016               0\n",
       "Lion                                              0.67  2016               0\n",
       "Manchester by the Sea                             0.05  2016               0\n",
       "Moonlight                                         0.06  2016               1\n",
       "Call Me by Your Name                              0.08  2017               0\n",
       "Darkest Hour                                      0.07  2017               0\n",
       "Dunkirk                                           0.08  2017               0\n",
       "Get Out                                           0.07  2017               0\n",
       "Ladybird                                          0.07  2017               0\n",
       "Phantom Thread                                    0.07  2017               0\n",
       "The Post                                          0.07  2017               0\n",
       "The Shape of Water                                0.62  2017               1\n",
       "Three Billboards Outside Ebbing, Missouri         0.16  2017               0\n",
       "Black Panther                                     0.07  2018               0\n",
       "BlacKkKlansman                                    0.05  2018               0\n",
       "Bohemian Rhapsody                                 0.08  2018               0\n",
       "The Favourite                                     0.05  2018               0\n",
       "Green Book                                        0.08  2018               1\n",
       "Roma                                              0.80  2018               0\n",
       "A Star Is Born                                    0.05  2018               0\n",
       "Vice                                              0.07  2018               0"
      ]
     },
     "execution_count": 43,
     "metadata": {},
     "output_type": "execute_result"
    }
   ],
   "source": [
    "prediction.tail(26)"
   ]
  },
  {
   "cell_type": "markdown",
   "metadata": {},
   "source": [
    "</br>\n",
    "<center>\n",
    "    <img src = notplanned.jpg width = 400 />\n",
    "    Awkward....\n",
    "</center>"
   ]
  },
  {
   "cell_type": "markdown",
   "metadata": {},
   "source": [
    "<b>Well logistic regression model didn't go as planned either. It did not give us great results with the test data and it also does not predict correct results. It predicts \"Roma\" as the Oscar winner rather than the actual winner \"Green Book\"</b> "
   ]
  },
  {
   "cell_type": "markdown",
   "metadata": {},
   "source": [
    "# Decision Trees\n",
    "\n",
    "A decision tree is the building block of a random forest and is an intuitive model. We can think of a decision tree as a series of yes/no questions asked about our data eventually leading to a predicted class. \n",
    "\n",
    "Presumably, the odds of an Oscar win could depend on critic ratings,IMDb ratings,previous awards won(BAFTA,SAG,NBRA) or even the genre. According to the Atlantic (see references below), dramas are more likely to win than any other category. And maybe a win also depends on the time of year the movie was released, so if the movie debuted near Oscars nominations season, you might have a better shot\n",
    "\n",
    "https://www.theatlantic.com/entertainment/archive/2014/03/the-secrets-to-winning-an-academy-award/284158/"
   ]
  },
  {
   "cell_type": "markdown",
   "metadata": {},
   "source": [
    "## 3. Fitting Decision Tree to the training set\n",
    "To create a decision tree and train (fit) it on the data, we use Scikit-Learn."
   ]
  },
  {
   "cell_type": "code",
   "execution_count": 44,
   "metadata": {},
   "outputs": [
    {
     "data": {
      "text/plain": [
       "DecisionTreeClassifier(class_weight=None, criterion='entropy', max_depth=None,\n",
       "            max_features=None, max_leaf_nodes=None,\n",
       "            min_impurity_decrease=0.0, min_impurity_split=None,\n",
       "            min_samples_leaf=1, min_samples_split=2,\n",
       "            min_weight_fraction_leaf=0.0, presort=False, random_state=0,\n",
       "            splitter='best')"
      ]
     },
     "execution_count": 44,
     "metadata": {},
     "output_type": "execute_result"
    }
   ],
   "source": [
    "from sklearn.tree import DecisionTreeClassifier\n",
    "classifier_dt = DecisionTreeClassifier(criterion = 'entropy',random_state = 0)\n",
    "classifier_dt.fit(X_train, y_train)"
   ]
  },
  {
   "cell_type": "code",
   "execution_count": 45,
   "metadata": {},
   "outputs": [
    {
     "name": "stdout",
     "output_type": "stream",
     "text": [
      "Decision tree has 61 nodes with maximum depth 8.\n"
     ]
    }
   ],
   "source": [
    "print(f'Decision tree has {classifier_dt.tree_.node_count} nodes with maximum depth {classifier_dt.tree_.max_depth}.')"
   ]
  },
  {
   "cell_type": "markdown",
   "metadata": {},
   "source": [
    "## 4. Variable Importance based on model"
   ]
  },
  {
   "cell_type": "code",
   "execution_count": 46,
   "metadata": {},
   "outputs": [
    {
     "name": "stdout",
     "output_type": "stream",
     "text": [
      "Variable: won_dga              Importance: 0.43\n",
      "Variable: rottencritic_numVotes Importance: 0.14\n",
      "Variable: runtimeMinutes       Importance: 0.09\n",
      "Variable: rotten_numVotes      Importance: 0.08\n",
      "Variable: RottenCriticRating   Importance: 0.07\n",
      "Variable: MovieLensrating      Importance: 0.05\n",
      "Variable: IMDBRating           Importance: 0.05\n",
      "Variable: imdb_numVotes        Importance: 0.05\n",
      "Variable: RottenRating         Importance: 0.05\n",
      "Variable: won_bafta            Importance: 0.0\n",
      "Variable: won_sa               Importance: 0.0\n",
      "Variable: won_sag              Importance: 0.0\n",
      "Variable: won_cc               Importance: 0.0\n"
     ]
    }
   ],
   "source": [
    "# Get numerical feature importances\n",
    "importances_tree = list(classifier_dt.feature_importances_)\n",
    "\n",
    "# List of tuples with variable and importance\n",
    "feature_importances = [(feature, round(importance, 2)) for feature, importance in zip(feature_list, importances_tree)]\n",
    "\n",
    "# Sort the feature importances by most important first\n",
    "feature_importances = sorted(feature_importances, key = lambda x: x[1], reverse = True)\n",
    "\n",
    "# Print out the feature and importances \n",
    "[print('Variable: {:20} Importance: {}'.format(*pair)) for pair in feature_importances];"
   ]
  },
  {
   "cell_type": "markdown",
   "metadata": {},
   "source": [
    "## 5. Visualization of the Decision Tree Model"
   ]
  },
  {
   "cell_type": "code",
   "execution_count": 47,
   "metadata": {},
   "outputs": [],
   "source": [
    "# Import tools needed for visualization\n",
    "from sklearn.tree import export_graphviz\n",
    "import pydot\n",
    "\n",
    "# Export the image to a dot file\n",
    "export_graphviz(classifier_dt, out_file = 'tree_oscars_dt.dot', feature_names = feature_list, class_names=['won','lost'],max_depth = 10,rounded = True, precision = 1)\n",
    "\n",
    "# Use dot file to create a graph\n",
    "(graph, ) = pydot.graph_from_dot_file('tree_oscars_dt.dot')\n",
    "\n",
    "# Write graph to a png file\n",
    "graph.write_png('tree_oscars_dt.png'); "
   ]
  },
  {
   "cell_type": "markdown",
   "metadata": {},
   "source": [
    "<br />\n",
    "<center>\n",
    "<img src = tree_oscars_dt.png width = 1000 />\n",
    "</center>"
   ]
  },
  {
   "cell_type": "markdown",
   "metadata": {},
   "source": [
    "## 6. Assess Decision Tree Performance"
   ]
  },
  {
   "cell_type": "markdown",
   "metadata": {},
   "source": [
    "<b> Confusion Matrix for Decision Tree </b>"
   ]
  },
  {
   "cell_type": "code",
   "execution_count": 48,
   "metadata": {},
   "outputs": [],
   "source": [
    "# Predicting the Test set results\n",
    "y_pred_dt = classifier_dt.predict(X_test)"
   ]
  },
  {
   "cell_type": "code",
   "execution_count": 49,
   "metadata": {},
   "outputs": [],
   "source": [
    "# Making the Confusion Matrix\n",
    "from sklearn.metrics import confusion_matrix\n",
    "cm_dt = confusion_matrix(y_test, y_pred_dt)"
   ]
  },
  {
   "cell_type": "code",
   "execution_count": 50,
   "metadata": {},
   "outputs": [
    {
     "name": "stdout",
     "output_type": "stream",
     "text": [
      "Confusion matrix, without normalization\n",
      "[[75 10]\n",
      " [ 9 13]]\n"
     ]
    },
    {
     "data": {
      "image/png": "[encoded data removed]",
      "text/plain": [
       "<Figure size 720x720 with 2 Axes>"
      ]
     },
     "metadata": {
      "needs_background": "light"
     },
     "output_type": "display_data"
    }
   ],
   "source": [
    "plot_confusion_matrix(cm_dt, classes = ['Lost Oscar', 'Won Oscar'],\n",
    "                      title = 'Oscar Confusion Matrix',cmap=plt.cm.Blues)"
   ]
  },
  {
   "cell_type": "markdown",
   "metadata": {},
   "source": [
    "<b> This matrix shows that there are 75+13=88 correct predictions and only 10+9=19 incorrect predictions.\n",
    "The decision tree model predicts 9 false negatives which means the movies which actually won the oscar but predicted that the movie lost and the model also predicted 10 false postives which means the movies which actually lost the oscar but predicted that the movie won the oscar. So in all, the model predicts more false positives which is bad. This could be improved using a Random Forest Classifier</b>"
   ]
  },
  {
   "cell_type": "code",
   "execution_count": 51,
   "metadata": {},
   "outputs": [
    {
     "name": "stdout",
     "output_type": "stream",
     "text": [
      "Accuracy 0.822429906542056\n"
     ]
    }
   ],
   "source": [
    "from sklearn import metrics\n",
    "print(\"Accuracy\", metrics.accuracy_score(y_test, y_pred_dt))"
   ]
  },
  {
   "cell_type": "markdown",
   "metadata": {},
   "source": [
    "<b>Let's try the k-Fold Cross Validation is applied to improve the model performance</b>"
   ]
  },
  {
   "cell_type": "code",
   "execution_count": 52,
   "metadata": {},
   "outputs": [
    {
     "data": {
      "text/plain": [
       "0.8714852150537634"
      ]
     },
     "execution_count": 52,
     "metadata": {},
     "output_type": "execute_result"
    }
   ],
   "source": [
    "# Applying k-Fold Cross Validation\n",
    "from sklearn.model_selection import cross_val_score\n",
    "accuracies_dt = cross_val_score(estimator = classifier_dt, X = X_train, y = y_train, cv = 10)\n",
    "accuracies_dt.mean()"
   ]
  },
  {
   "cell_type": "markdown",
   "metadata": {},
   "source": [
    "<b>The Decision tree performance is 87% which is decent.</b>"
   ]
  },
  {
   "cell_type": "markdown",
   "metadata": {},
   "source": [
    "ROC curves typically feature true positive rate on the Y axis, and false positive rate on the X axis. This means that the top left corner of the plot is the “ideal” point - a false positive rate of zero, and a true positive rate of one. This is not very realistic, but it does mean that a larger area under the curve (AUC) is usually better.\n",
    "\n",
    "The “steepness” of ROC curves is also important, since it is ideal to maximize the true positive rate while minimizing the false positive rate."
   ]
  },
  {
   "cell_type": "code",
   "execution_count": 53,
   "metadata": {},
   "outputs": [],
   "source": [
    "# Make probability predictions\n",
    "train_probs_dt = classifier_dt.predict_proba(X_train)[:, 1]\n",
    "probs_dt = classifier_dt.predict_proba(X_test)[:, 1]\n",
    "\n",
    "train_predictions_dt = classifier_dt.predict(X_train)\n",
    "predictions_dt = classifier_dt.predict(X_test)"
   ]
  },
  {
   "cell_type": "code",
   "execution_count": 54,
   "metadata": {},
   "outputs": [
    {
     "name": "stdout",
     "output_type": "stream",
     "text": [
      "Train ROC AUC Score: 1.0\n",
      "Test ROC AUC  Score: 0.7366310160427807\n"
     ]
    }
   ],
   "source": [
    "from sklearn.metrics import precision_score, recall_score, roc_auc_score, roc_curve\n",
    "\n",
    "print(f'Train ROC AUC Score: {roc_auc_score(y_train, train_probs_dt)}')\n",
    "print(f'Test ROC AUC  Score: {roc_auc_score(y_test, probs_dt)}')"
   ]
  },
  {
   "cell_type": "code",
   "execution_count": 55,
   "metadata": {},
   "outputs": [
    {
     "name": "stdout",
     "output_type": "stream",
     "text": [
      "Baseline ROC AUC: 0.5\n"
     ]
    }
   ],
   "source": [
    "print(f'Baseline ROC AUC: {roc_auc_score(y_test, [1 for _ in range(len(y_test))])}')"
   ]
  },
  {
   "cell_type": "code",
   "execution_count": 56,
   "metadata": {},
   "outputs": [
    {
     "name": "stdout",
     "output_type": "stream",
     "text": [
      "Recall Baseline: 1.0 Test: 0.59 Train: 1.0\n",
      "Precision Baseline: 0.21 Test: 0.57 Train: 1.0\n",
      "Roc Baseline: 0.5 Test: 0.74 Train: 1.0\n"
     ]
    },
    {
     "data": {
      "image/png": "[encoded data removed]",
      "text/plain": [
       "<Figure size 576x432 with 1 Axes>"
      ]
     },
     "metadata": {
      "needs_background": "light"
     },
     "output_type": "display_data"
    }
   ],
   "source": [
    "evaluate_model(predictions_dt, probs_dt, train_predictions_dt, train_probs_dt)"
   ]
  },
  {
   "cell_type": "markdown",
   "metadata": {},
   "source": [
    "<b>Our decision tree for Oscars achieves the perfect score for the training data. But the test data is not great, and can be seen that there is overfitting of the training data.</b>"
   ]
  },
  {
   "cell_type": "markdown",
   "metadata": {},
   "source": [
    "## 7. Finally our Decision Tree Model predicts the Oscars"
   ]
  },
  {
   "cell_type": "code",
   "execution_count": 57,
   "metadata": {},
   "outputs": [],
   "source": [
    "test_features = dataset[feature_list].values\n",
    "\n",
    "pred_tree = classifier_dt.predict_proba(test_features)[:,1]\n",
    "movie_name = np.array(dataset['title'])\n",
    "year = np.array(dataset['year'])\n",
    "won_oscar = np.array(dataset['won_oscar'])\n"
   ]
  },
  {
   "cell_type": "code",
   "execution_count": 58,
   "metadata": {},
   "outputs": [],
   "source": [
    "tree_prediction = pd.DataFrame(pred_tree,movie_name,columns =[\"Probability\"] )\n",
    "tree_prediction[\"Year\"] = year \n",
    "tree_prediction[\"Won Oscar\"] = won_oscar"
   ]
  },
  {
   "cell_type": "code",
   "execution_count": 59,
   "metadata": {},
   "outputs": [
    {
     "data": {
      "text/html": [
       "<div>\n",
       "<style scoped>\n",
       "    .dataframe tbody tr th:only-of-type {\n",
       "        vertical-align: middle;\n",
       "    }\n",
       "\n",
       "    .dataframe tbody tr th {\n",
       "        vertical-align: top;\n",
       "    }\n",
       "\n",
       "    .dataframe thead th {\n",
       "        text-align: right;\n",
       "    }\n",
       "</style>\n",
       "<table border=\"1\" class=\"dataframe\">\n",
       "  <thead>\n",
       "    <tr style=\"text-align: right;\">\n",
       "      <th></th>\n",
       "      <th>Probability</th>\n",
       "      <th>Year</th>\n",
       "      <th>Won Oscar</th>\n",
       "    </tr>\n",
       "  </thead>\n",
       "  <tbody>\n",
       "    <tr>\n",
       "      <th>Lion</th>\n",
       "      <td>1.0</td>\n",
       "      <td>2016</td>\n",
       "      <td>0</td>\n",
       "    </tr>\n",
       "    <tr>\n",
       "      <th>Manchester by the Sea</th>\n",
       "      <td>0.0</td>\n",
       "      <td>2016</td>\n",
       "      <td>0</td>\n",
       "    </tr>\n",
       "    <tr>\n",
       "      <th>Moonlight</th>\n",
       "      <td>1.0</td>\n",
       "      <td>2016</td>\n",
       "      <td>1</td>\n",
       "    </tr>\n",
       "    <tr>\n",
       "      <th>Call Me by Your Name</th>\n",
       "      <td>0.0</td>\n",
       "      <td>2017</td>\n",
       "      <td>0</td>\n",
       "    </tr>\n",
       "    <tr>\n",
       "      <th>Darkest Hour</th>\n",
       "      <td>0.0</td>\n",
       "      <td>2017</td>\n",
       "      <td>0</td>\n",
       "    </tr>\n",
       "    <tr>\n",
       "      <th>Dunkirk</th>\n",
       "      <td>0.0</td>\n",
       "      <td>2017</td>\n",
       "      <td>0</td>\n",
       "    </tr>\n",
       "    <tr>\n",
       "      <th>Get Out</th>\n",
       "      <td>0.0</td>\n",
       "      <td>2017</td>\n",
       "      <td>0</td>\n",
       "    </tr>\n",
       "    <tr>\n",
       "      <th>Ladybird</th>\n",
       "      <td>0.0</td>\n",
       "      <td>2017</td>\n",
       "      <td>0</td>\n",
       "    </tr>\n",
       "    <tr>\n",
       "      <th>Phantom Thread</th>\n",
       "      <td>0.0</td>\n",
       "      <td>2017</td>\n",
       "      <td>0</td>\n",
       "    </tr>\n",
       "    <tr>\n",
       "      <th>The Post</th>\n",
       "      <td>0.0</td>\n",
       "      <td>2017</td>\n",
       "      <td>0</td>\n",
       "    </tr>\n",
       "    <tr>\n",
       "      <th>The Shape of Water</th>\n",
       "      <td>1.0</td>\n",
       "      <td>2017</td>\n",
       "      <td>1</td>\n",
       "    </tr>\n",
       "    <tr>\n",
       "      <th>Three Billboards Outside Ebbing, Missouri</th>\n",
       "      <td>0.0</td>\n",
       "      <td>2017</td>\n",
       "      <td>0</td>\n",
       "    </tr>\n",
       "    <tr>\n",
       "      <th>Black Panther</th>\n",
       "      <td>0.0</td>\n",
       "      <td>2018</td>\n",
       "      <td>0</td>\n",
       "    </tr>\n",
       "    <tr>\n",
       "      <th>BlacKkKlansman</th>\n",
       "      <td>0.0</td>\n",
       "      <td>2018</td>\n",
       "      <td>0</td>\n",
       "    </tr>\n",
       "    <tr>\n",
       "      <th>Bohemian Rhapsody</th>\n",
       "      <td>0.0</td>\n",
       "      <td>2018</td>\n",
       "      <td>0</td>\n",
       "    </tr>\n",
       "    <tr>\n",
       "      <th>The Favourite</th>\n",
       "      <td>0.0</td>\n",
       "      <td>2018</td>\n",
       "      <td>0</td>\n",
       "    </tr>\n",
       "    <tr>\n",
       "      <th>Green Book</th>\n",
       "      <td>1.0</td>\n",
       "      <td>2018</td>\n",
       "      <td>1</td>\n",
       "    </tr>\n",
       "    <tr>\n",
       "      <th>Roma</th>\n",
       "      <td>0.0</td>\n",
       "      <td>2018</td>\n",
       "      <td>0</td>\n",
       "    </tr>\n",
       "    <tr>\n",
       "      <th>A Star Is Born</th>\n",
       "      <td>0.0</td>\n",
       "      <td>2018</td>\n",
       "      <td>0</td>\n",
       "    </tr>\n",
       "    <tr>\n",
       "      <th>Vice</th>\n",
       "      <td>0.0</td>\n",
       "      <td>2018</td>\n",
       "      <td>0</td>\n",
       "    </tr>\n",
       "  </tbody>\n",
       "</table>\n",
       "</div>"
      ],
      "text/plain": [
       "                                           Probability  Year  Won Oscar\n",
       "Lion                                               1.0  2016          0\n",
       "Manchester by the Sea                              0.0  2016          0\n",
       "Moonlight                                          1.0  2016          1\n",
       "Call Me by Your Name                               0.0  2017          0\n",
       "Darkest Hour                                       0.0  2017          0\n",
       "Dunkirk                                            0.0  2017          0\n",
       "Get Out                                            0.0  2017          0\n",
       "Ladybird                                           0.0  2017          0\n",
       "Phantom Thread                                     0.0  2017          0\n",
       "The Post                                           0.0  2017          0\n",
       "The Shape of Water                                 1.0  2017          1\n",
       "Three Billboards Outside Ebbing, Missouri          0.0  2017          0\n",
       "Black Panther                                      0.0  2018          0\n",
       "BlacKkKlansman                                     0.0  2018          0\n",
       "Bohemian Rhapsody                                  0.0  2018          0\n",
       "The Favourite                                      0.0  2018          0\n",
       "Green Book                                         1.0  2018          1\n",
       "Roma                                               0.0  2018          0\n",
       "A Star Is Born                                     0.0  2018          0\n",
       "Vice                                               0.0  2018          0"
      ]
     },
     "execution_count": 59,
     "metadata": {},
     "output_type": "execute_result"
    }
   ],
   "source": [
    "tree_prediction.tail(20)"
   ]
  },
  {
   "cell_type": "markdown",
   "metadata": {},
   "source": [
    "</br>\n",
    "<center>\n",
    "    <img src =working.gif width = 400 />\n",
    "    *Yassss...*\n",
    "</center>"
   ]
  },
  {
   "cell_type": "markdown",
   "metadata": {},
   "source": [
    "<b>The decision tree predicts the correct Oscar winner and did way better than logisitc regression model.Andddd the Decision tree predicts \"Green Book\" as the winner.Yay!  </b>\n",
    "\n",
    "But not so good results with the model accuracy and performance. We could try to improve the results by trying another classifier"
   ]
  },
  {
   "cell_type": "markdown",
   "metadata": {},
   "source": [
    "# Random Forest Classifier \n",
    "\n",
    "The random forest combines hundreds or thousands of decision trees, trains each one on a slightly different set of the observations, splitting nodes in each tree considering a limited number of the features. The final predictions of the random forest are made by averaging the predictions of each individual tree.\n",
    "\n",
    "<b>Not great results using a decision tree as we can see above. Let's try using a Random Forest Classifier</b>\n",
    "\n",
    "Here we directly jump to the <b>3rd</b> step from above. As we have done the data pre-processing in the decision tree steps"
   ]
  },
  {
   "cell_type": "markdown",
   "metadata": {},
   "source": [
    "## 3. Fitting Random Forest to the training set\n",
    "To create a decision tree and train (fit) it on the data, we use Scikit-Learn."
   ]
  },
  {
   "cell_type": "code",
   "execution_count": 60,
   "metadata": {},
   "outputs": [
    {
     "data": {
      "text/plain": [
       "RandomForestClassifier(bootstrap=True, class_weight=None, criterion='entropy',\n",
       "            max_depth=None, max_features='auto', max_leaf_nodes=None,\n",
       "            min_impurity_decrease=0.0, min_impurity_split=None,\n",
       "            min_samples_leaf=1, min_samples_split=2,\n",
       "            min_weight_fraction_leaf=0.0, n_estimators=100, n_jobs=None,\n",
       "            oob_score=False, random_state=0, verbose=0, warm_start=False)"
      ]
     },
     "execution_count": 60,
     "metadata": {},
     "output_type": "execute_result"
    }
   ],
   "source": [
    "# Fitting Random Forest Classification to the Training set\n",
    "from sklearn.ensemble import RandomForestClassifier\n",
    "classifier_rf = RandomForestClassifier(n_estimators = 100,random_state = 0,criterion = 'entropy')\n",
    "classifier_rf.fit(X_train, y_train)"
   ]
  },
  {
   "cell_type": "markdown",
   "metadata": {},
   "source": [
    "## 4. Variable Importance based on model"
   ]
  },
  {
   "cell_type": "code",
   "execution_count": 61,
   "metadata": {},
   "outputs": [
    {
     "name": "stdout",
     "output_type": "stream",
     "text": [
      "Variable: won_dga              Importance: 0.31\n",
      "Variable: rottencritic_numVotes Importance: 0.12\n",
      "Variable: imdb_numVotes        Importance: 0.09\n",
      "Variable: rotten_numVotes      Importance: 0.09\n",
      "Variable: MovieLensrating      Importance: 0.07\n",
      "Variable: runtimeMinutes       Importance: 0.07\n",
      "Variable: RottenCriticRating   Importance: 0.07\n",
      "Variable: IMDBRating           Importance: 0.06\n",
      "Variable: RottenRating         Importance: 0.06\n",
      "Variable: won_bafta            Importance: 0.02\n",
      "Variable: won_cc               Importance: 0.02\n",
      "Variable: won_sa               Importance: 0.01\n",
      "Variable: won_sag              Importance: 0.01\n"
     ]
    }
   ],
   "source": [
    "# Get numerical feature importances\n",
    "importances_forest = list(classifier_rf.feature_importances_)\n",
    "\n",
    "# List of tuples with variable and importance\n",
    "feature_importances = [(feature, round(importance, 2)) for feature, importance in zip(feature_list, importances_forest)]\n",
    "\n",
    "# Sort the feature importances by most important first\n",
    "feature_importances = sorted(feature_importances, key = lambda x: x[1], reverse = True)\n",
    "\n",
    "# Print out the feature and importances \n",
    "[print('Variable: {:20} Importance: {}'.format(*pair)) for pair in feature_importances];"
   ]
  },
  {
   "cell_type": "code",
   "execution_count": 62,
   "metadata": {},
   "outputs": [
    {
     "data": {
      "image/png": "[encoded data removed]",
      "text/plain": [
       "<Figure size 432x288 with 1 Axes>"
      ]
     },
     "metadata": {
      "needs_background": "light"
     },
     "output_type": "display_data"
    }
   ],
   "source": [
    "# list of x locations for plotting\n",
    "x_values = list(range(len(importances_forest)))\n",
    "\n",
    "# Make a horizontal bar chart\n",
    "plt.barh(x_values, importances_forest,color=\"blue\",align=\"center\")\n",
    "\n",
    "# Tick labels for y axis\n",
    "plt.yticks(x_values, feature_list)\n",
    "#plt.ylim(-0.5,11.5)\n",
    "\n",
    "# Axis labels and title\n",
    "plt.ylabel('Feature List'); plt.xlabel('Importance'); plt.title('Variable Importances'); "
   ]
  },
  {
   "cell_type": "markdown",
   "metadata": {},
   "source": [
    "## 5. Visualization of the Random Forest Model"
   ]
  },
  {
   "cell_type": "code",
   "execution_count": 63,
   "metadata": {},
   "outputs": [],
   "source": [
    "# Import tools needed for visualization\n",
    "from sklearn.tree import export_graphviz\n",
    "import pydot\n",
    "\n",
    "# Pull out one tree from the forest\n",
    "tree = classifier_rf.estimators_[13]\n",
    "\n",
    "# Export the image to a dot file\n",
    "export_graphviz(tree, out_file = 'tree_oscars_rf.dot', feature_names = feature_list, rounded = True, precision = 1)\n",
    "\n",
    "# Use dot file to create a graph\n",
    "(graph, ) = pydot.graph_from_dot_file('tree_oscars_rf.dot')\n",
    "\n",
    "# Write graph to a png file\n",
    "graph.write_png('tree_oscars_rf.png'); "
   ]
  },
  {
   "cell_type": "markdown",
   "metadata": {},
   "source": [
    "<br />\n",
    "<center>\n",
    "<img src = tree_oscars_rf.png width = 1000 />\n",
    "</center>"
   ]
  },
  {
   "cell_type": "code",
   "execution_count": 64,
   "metadata": {},
   "outputs": [
    {
     "name": "stdout",
     "output_type": "stream",
     "text": [
      "The depth of this tree is: 14\n"
     ]
    }
   ],
   "source": [
    "print('The depth of this tree is:', tree.tree_.max_depth)"
   ]
  },
  {
   "cell_type": "code",
   "execution_count": 65,
   "metadata": {},
   "outputs": [],
   "source": [
    "# Limit depth of tree to 2 levels\n",
    "rf_small = RandomForestClassifier(n_estimators=10, max_depth = 4,criterion = 'entropy', random_state = 0)\n",
    "rf_small.fit(X_train, y_train)\n",
    "\n",
    "# Extract the small tree\n",
    "tree_small = rf_small.estimators_[5]\n",
    "\n",
    "# Save the tree as a png image\n",
    "export_graphviz(tree_small, out_file = 'small_tree_oscars.dot', feature_names = feature_list, class_names=['won','lost'],rounded = True, precision = 1)\n",
    "\n",
    "(graph, ) = pydot.graph_from_dot_file('small_tree_oscars.dot')\n",
    "\n",
    "graph.write_png('small_tree_oscars.png');"
   ]
  },
  {
   "cell_type": "markdown",
   "metadata": {},
   "source": [
    "<br/>\n",
    "<center>\n",
    "<img src = small_tree_oscars.png width = 1000 />\n",
    "</center>"
   ]
  },
  {
   "cell_type": "markdown",
   "metadata": {},
   "source": [
    "## 6. Assess Random Forest Performance"
   ]
  },
  {
   "cell_type": "markdown",
   "metadata": {},
   "source": [
    "<b> Confusion Matrix for Random Forest </b>"
   ]
  },
  {
   "cell_type": "code",
   "execution_count": 66,
   "metadata": {},
   "outputs": [],
   "source": [
    "# Predicting the Test set results\n",
    "y_pred_rf = classifier_rf.predict(X_test)"
   ]
  },
  {
   "cell_type": "code",
   "execution_count": 67,
   "metadata": {},
   "outputs": [],
   "source": [
    "# Making the Confusion Matrix\n",
    "from sklearn.metrics import confusion_matrix\n",
    "cm_rf = confusion_matrix(y_test, y_pred_rf)"
   ]
  },
  {
   "cell_type": "code",
   "execution_count": 68,
   "metadata": {},
   "outputs": [
    {
     "name": "stdout",
     "output_type": "stream",
     "text": [
      "Confusion matrix, without normalization\n",
      "[[82  3]\n",
      " [11 11]]\n"
     ]
    },
    {
     "data": {
      "image/png": "[encoded data removed]",
      "text/plain": [
       "<Figure size 720x720 with 2 Axes>"
      ]
     },
     "metadata": {
      "needs_background": "light"
     },
     "output_type": "display_data"
    }
   ],
   "source": [
    "plot_confusion_matrix(cm_rf, classes = ['Lost Oscar', 'Won Oscar'],\n",
    "                      title = 'Oscar Confusion Matrix',cmap=plt.cm.Blues)"
   ]
  },
  {
   "cell_type": "markdown",
   "metadata": {},
   "source": [
    "<b> This matrix shows that there are 82+11=93 correct predictions and only 11+3=14 incorrect predictions. This seems to be a better model than the decision tree.\n",
    "\n",
    "The random forest model predicts 11 false negatives which means the movies which actually won the oscar but predicted that the movie lost and the model also predicted 3 false postives which means the movies which actually lost the oscar but predicted that the movie won the oscar.\n",
    "\n",
    "Using the random forest model the false positives are lesser,which means our model is headed in the right direction and is doing better than the decision tree model</b>"
   ]
  },
  {
   "cell_type": "code",
   "execution_count": 69,
   "metadata": {},
   "outputs": [
    {
     "name": "stdout",
     "output_type": "stream",
     "text": [
      "Accuracy 0.8691588785046729\n"
     ]
    }
   ],
   "source": [
    "from sklearn import metrics\n",
    "print(\"Accuracy\", metrics.accuracy_score(y_test, y_pred_rf))"
   ]
  },
  {
   "cell_type": "markdown",
   "metadata": {},
   "source": [
    "<b>Let's try the k-Fold Cross Validation is applied to improve the model performance</b>"
   ]
  },
  {
   "cell_type": "code",
   "execution_count": 70,
   "metadata": {},
   "outputs": [
    {
     "data": {
      "text/plain": [
       "0.9009543010752689"
      ]
     },
     "execution_count": 70,
     "metadata": {},
     "output_type": "execute_result"
    }
   ],
   "source": [
    "# Applying k-Fold Cross Validation\n",
    "from sklearn.model_selection import cross_val_score\n",
    "accuracies_rf = cross_val_score(estimator = classifier_rf, X = X_train, y = y_train, cv = 10)\n",
    "accuracies_rf.mean()"
   ]
  },
  {
   "cell_type": "markdown",
   "metadata": {},
   "source": [
    "<b>The Random Forest performance is 90% which is better than the Decision tree's model.</b>"
   ]
  },
  {
   "cell_type": "code",
   "execution_count": 71,
   "metadata": {},
   "outputs": [],
   "source": [
    "# Make probability predictions\n",
    "train_probs_rf = classifier_rf.predict_proba(X_train)[:, 1]\n",
    "probs_rf = classifier_rf.predict_proba(X_test)[:, 1]\n",
    "\n",
    "train_predictions_rf = classifier_rf.predict(X_train)\n",
    "predictions_rf = classifier_rf.predict(X_test)"
   ]
  },
  {
   "cell_type": "code",
   "execution_count": 72,
   "metadata": {},
   "outputs": [
    {
     "name": "stdout",
     "output_type": "stream",
     "text": [
      "Train ROC AUC Score: 1.0\n",
      "Test ROC AUC  Score: 0.9379679144385027\n"
     ]
    }
   ],
   "source": [
    "from sklearn.metrics import precision_score, recall_score, roc_auc_score, roc_curve\n",
    "\n",
    "print(f'Train ROC AUC Score: {roc_auc_score(y_train, train_probs_rf)}')\n",
    "print(f'Test ROC AUC  Score: {roc_auc_score(y_test, probs_rf)}')"
   ]
  },
  {
   "cell_type": "code",
   "execution_count": 73,
   "metadata": {},
   "outputs": [
    {
     "name": "stdout",
     "output_type": "stream",
     "text": [
      "Baseline ROC AUC: 0.5\n"
     ]
    }
   ],
   "source": [
    "print(f'Baseline ROC AUC: {roc_auc_score(y_test, [1 for _ in range(len(y_test))])}')"
   ]
  },
  {
   "cell_type": "code",
   "execution_count": 74,
   "metadata": {},
   "outputs": [
    {
     "name": "stdout",
     "output_type": "stream",
     "text": [
      "Recall Baseline: 1.0 Test: 0.5 Train: 1.0\n",
      "Precision Baseline: 0.21 Test: 0.79 Train: 1.0\n",
      "Roc Baseline: 0.5 Test: 0.94 Train: 1.0\n"
     ]
    },
    {
     "data": {
      "image/png": "[encoded data removed]",
      "text/plain": [
       "<Figure size 576x432 with 1 Axes>"
      ]
     },
     "metadata": {
      "needs_background": "light"
     },
     "output_type": "display_data"
    }
   ],
   "source": [
    "evaluate_model(predictions_rf, probs_rf, train_predictions_rf, train_probs_rf)"
   ]
  },
  {
   "cell_type": "markdown",
   "metadata": {},
   "source": [
    "<b>Sooo, our random forest model has done wayy better than the deicison tree model. The training data as usual is perfect, but the testing data has also done a better with a Roc of 0.94. Also the AUC is greater which means its a better model for our Oscar data.</b>"
   ]
  },
  {
   "cell_type": "markdown",
   "metadata": {},
   "source": [
    "## 7. Finally our Decision Tree Model predicts the Oscars"
   ]
  },
  {
   "cell_type": "code",
   "execution_count": 75,
   "metadata": {},
   "outputs": [],
   "source": [
    "test_features = dataset[feature_list].values\n",
    "\n",
    "pred_forest = classifier_rf.predict_proba(test_features)[:,1]\n",
    "movie_name = np.array(dataset['title'])\n",
    "year = np.array(dataset['year'])\n",
    "won_oscar = np.array(dataset['won_oscar'])"
   ]
  },
  {
   "cell_type": "code",
   "execution_count": 76,
   "metadata": {},
   "outputs": [],
   "source": [
    "forest_prediction = pd.DataFrame(pred_forest,movie_name,columns =[\"Probability\"] )\n",
    "forest_prediction[\"Year\"] = year \n",
    "forest_prediction[\"Won Oscar\"] = won_oscar"
   ]
  },
  {
   "cell_type": "code",
   "execution_count": 77,
   "metadata": {},
   "outputs": [
    {
     "data": {
      "text/html": [
       "<div>\n",
       "<style scoped>\n",
       "    .dataframe tbody tr th:only-of-type {\n",
       "        vertical-align: middle;\n",
       "    }\n",
       "\n",
       "    .dataframe tbody tr th {\n",
       "        vertical-align: top;\n",
       "    }\n",
       "\n",
       "    .dataframe thead th {\n",
       "        text-align: right;\n",
       "    }\n",
       "</style>\n",
       "<table border=\"1\" class=\"dataframe\">\n",
       "  <thead>\n",
       "    <tr style=\"text-align: right;\">\n",
       "      <th></th>\n",
       "      <th>Probability</th>\n",
       "      <th>Year</th>\n",
       "      <th>Won Oscar</th>\n",
       "    </tr>\n",
       "  </thead>\n",
       "  <tbody>\n",
       "    <tr>\n",
       "      <th>Lion</th>\n",
       "      <td>0.65</td>\n",
       "      <td>2016</td>\n",
       "      <td>0</td>\n",
       "    </tr>\n",
       "    <tr>\n",
       "      <th>Manchester by the Sea</th>\n",
       "      <td>0.02</td>\n",
       "      <td>2016</td>\n",
       "      <td>0</td>\n",
       "    </tr>\n",
       "    <tr>\n",
       "      <th>Moonlight</th>\n",
       "      <td>0.69</td>\n",
       "      <td>2016</td>\n",
       "      <td>1</td>\n",
       "    </tr>\n",
       "    <tr>\n",
       "      <th>Call Me by Your Name</th>\n",
       "      <td>0.01</td>\n",
       "      <td>2017</td>\n",
       "      <td>0</td>\n",
       "    </tr>\n",
       "    <tr>\n",
       "      <th>Darkest Hour</th>\n",
       "      <td>0.03</td>\n",
       "      <td>2017</td>\n",
       "      <td>0</td>\n",
       "    </tr>\n",
       "    <tr>\n",
       "      <th>Dunkirk</th>\n",
       "      <td>0.01</td>\n",
       "      <td>2017</td>\n",
       "      <td>0</td>\n",
       "    </tr>\n",
       "    <tr>\n",
       "      <th>Get Out</th>\n",
       "      <td>0.02</td>\n",
       "      <td>2017</td>\n",
       "      <td>0</td>\n",
       "    </tr>\n",
       "    <tr>\n",
       "      <th>Ladybird</th>\n",
       "      <td>0.06</td>\n",
       "      <td>2017</td>\n",
       "      <td>0</td>\n",
       "    </tr>\n",
       "    <tr>\n",
       "      <th>Phantom Thread</th>\n",
       "      <td>0.07</td>\n",
       "      <td>2017</td>\n",
       "      <td>0</td>\n",
       "    </tr>\n",
       "    <tr>\n",
       "      <th>The Post</th>\n",
       "      <td>0.09</td>\n",
       "      <td>2017</td>\n",
       "      <td>0</td>\n",
       "    </tr>\n",
       "    <tr>\n",
       "      <th>The Shape of Water</th>\n",
       "      <td>0.70</td>\n",
       "      <td>2017</td>\n",
       "      <td>1</td>\n",
       "    </tr>\n",
       "    <tr>\n",
       "      <th>Three Billboards Outside Ebbing, Missouri</th>\n",
       "      <td>0.11</td>\n",
       "      <td>2017</td>\n",
       "      <td>0</td>\n",
       "    </tr>\n",
       "    <tr>\n",
       "      <th>Black Panther</th>\n",
       "      <td>0.02</td>\n",
       "      <td>2018</td>\n",
       "      <td>0</td>\n",
       "    </tr>\n",
       "    <tr>\n",
       "      <th>BlacKkKlansman</th>\n",
       "      <td>0.02</td>\n",
       "      <td>2018</td>\n",
       "      <td>0</td>\n",
       "    </tr>\n",
       "    <tr>\n",
       "      <th>Bohemian Rhapsody</th>\n",
       "      <td>0.08</td>\n",
       "      <td>2018</td>\n",
       "      <td>0</td>\n",
       "    </tr>\n",
       "    <tr>\n",
       "      <th>The Favourite</th>\n",
       "      <td>0.11</td>\n",
       "      <td>2018</td>\n",
       "      <td>0</td>\n",
       "    </tr>\n",
       "    <tr>\n",
       "      <th>Green Book</th>\n",
       "      <td>0.55</td>\n",
       "      <td>2018</td>\n",
       "      <td>1</td>\n",
       "    </tr>\n",
       "    <tr>\n",
       "      <th>Roma</th>\n",
       "      <td>0.16</td>\n",
       "      <td>2018</td>\n",
       "      <td>0</td>\n",
       "    </tr>\n",
       "    <tr>\n",
       "      <th>A Star Is Born</th>\n",
       "      <td>0.04</td>\n",
       "      <td>2018</td>\n",
       "      <td>0</td>\n",
       "    </tr>\n",
       "    <tr>\n",
       "      <th>Vice</th>\n",
       "      <td>0.20</td>\n",
       "      <td>2018</td>\n",
       "      <td>0</td>\n",
       "    </tr>\n",
       "  </tbody>\n",
       "</table>\n",
       "</div>"
      ],
      "text/plain": [
       "                                           Probability  Year  Won Oscar\n",
       "Lion                                              0.65  2016          0\n",
       "Manchester by the Sea                             0.02  2016          0\n",
       "Moonlight                                         0.69  2016          1\n",
       "Call Me by Your Name                              0.01  2017          0\n",
       "Darkest Hour                                      0.03  2017          0\n",
       "Dunkirk                                           0.01  2017          0\n",
       "Get Out                                           0.02  2017          0\n",
       "Ladybird                                          0.06  2017          0\n",
       "Phantom Thread                                    0.07  2017          0\n",
       "The Post                                          0.09  2017          0\n",
       "The Shape of Water                                0.70  2017          1\n",
       "Three Billboards Outside Ebbing, Missouri         0.11  2017          0\n",
       "Black Panther                                     0.02  2018          0\n",
       "BlacKkKlansman                                    0.02  2018          0\n",
       "Bohemian Rhapsody                                 0.08  2018          0\n",
       "The Favourite                                     0.11  2018          0\n",
       "Green Book                                        0.55  2018          1\n",
       "Roma                                              0.16  2018          0\n",
       "A Star Is Born                                    0.04  2018          0\n",
       "Vice                                              0.20  2018          0"
      ]
     },
     "execution_count": 77,
     "metadata": {},
     "output_type": "execute_result"
    }
   ],
   "source": [
    "forest_prediction.tail(20)"
   ]
  },
  {
   "cell_type": "markdown",
   "metadata": {},
   "source": [
    "<b>Model Accuracy is better and the Oscar Prediction shows the correct result!.\n",
    "    \n",
    "    And we predict Green Book as the winner with a higher probability.\n",
    "    \n",
    " *Let us check for the ever so famous \"La La Land\" and \"Moon Light\" for 2016*</b>"
   ]
  },
  {
   "cell_type": "code",
   "execution_count": 78,
   "metadata": {},
   "outputs": [
    {
     "data": {
      "text/html": [
       "<div>\n",
       "<style scoped>\n",
       "    .dataframe tbody tr th:only-of-type {\n",
       "        vertical-align: middle;\n",
       "    }\n",
       "\n",
       "    .dataframe tbody tr th {\n",
       "        vertical-align: top;\n",
       "    }\n",
       "\n",
       "    .dataframe thead th {\n",
       "        text-align: right;\n",
       "    }\n",
       "</style>\n",
       "<table border=\"1\" class=\"dataframe\">\n",
       "  <thead>\n",
       "    <tr style=\"text-align: right;\">\n",
       "      <th></th>\n",
       "      <th>Probability</th>\n",
       "      <th>Year</th>\n",
       "      <th>Won Oscar</th>\n",
       "    </tr>\n",
       "  </thead>\n",
       "  <tbody>\n",
       "    <tr>\n",
       "      <th>Arrival</th>\n",
       "      <td>0.04</td>\n",
       "      <td>2016</td>\n",
       "      <td>0</td>\n",
       "    </tr>\n",
       "    <tr>\n",
       "      <th>Fences</th>\n",
       "      <td>0.01</td>\n",
       "      <td>2016</td>\n",
       "      <td>0</td>\n",
       "    </tr>\n",
       "    <tr>\n",
       "      <th>Hacksaw Ridge</th>\n",
       "      <td>0.07</td>\n",
       "      <td>2016</td>\n",
       "      <td>0</td>\n",
       "    </tr>\n",
       "    <tr>\n",
       "      <th>Hell or High Water</th>\n",
       "      <td>0.01</td>\n",
       "      <td>2016</td>\n",
       "      <td>0</td>\n",
       "    </tr>\n",
       "    <tr>\n",
       "      <th>Hidden Figures</th>\n",
       "      <td>0.02</td>\n",
       "      <td>2016</td>\n",
       "      <td>0</td>\n",
       "    </tr>\n",
       "    <tr>\n",
       "      <th>La La Land</th>\n",
       "      <td>0.19</td>\n",
       "      <td>2016</td>\n",
       "      <td>0</td>\n",
       "    </tr>\n",
       "    <tr>\n",
       "      <th>Lion</th>\n",
       "      <td>0.65</td>\n",
       "      <td>2016</td>\n",
       "      <td>0</td>\n",
       "    </tr>\n",
       "    <tr>\n",
       "      <th>Manchester by the Sea</th>\n",
       "      <td>0.02</td>\n",
       "      <td>2016</td>\n",
       "      <td>0</td>\n",
       "    </tr>\n",
       "    <tr>\n",
       "      <th>Moonlight</th>\n",
       "      <td>0.69</td>\n",
       "      <td>2016</td>\n",
       "      <td>1</td>\n",
       "    </tr>\n",
       "  </tbody>\n",
       "</table>\n",
       "</div>"
      ],
      "text/plain": [
       "                       Probability  Year  Won Oscar\n",
       "Arrival                       0.04  2016          0\n",
       "Fences                        0.01  2016          0\n",
       "Hacksaw Ridge                 0.07  2016          0\n",
       "Hell or High Water            0.01  2016          0\n",
       "Hidden Figures                0.02  2016          0\n",
       "La La Land                    0.19  2016          0\n",
       "Lion                          0.65  2016          0\n",
       "Manchester by the Sea         0.02  2016          0\n",
       "Moonlight                     0.69  2016          1"
      ]
     },
     "execution_count": 78,
     "metadata": {},
     "output_type": "execute_result"
    }
   ],
   "source": [
    "forest_prediction.loc[forest_prediction['Year'] == 2016]"
   ]
  },
  {
   "cell_type": "markdown",
   "metadata": {},
   "source": [
    "## Conclusion\n",
    "\n",
    "<b>The random forest still predicts Moonlight as the Oscar Winner.* Well the data cannot go wrong and we users really were rooting for La La Land to win. According to the data our model is correct.\n",
    "\n",
    "\n",
    "So the Random Forest predicts \"Green Book\" as the Best Picture winner. \n",
    "\n",
    "We have predicted the correct Oscar winners for the 2019 which is \"Green Book\". Not to brag our model also predicted that 2018 winners \"The Shape of Water\".\n",
    "\n",
    "    All in all we predicted pretty good results with training the machine from data all the way from 1944.\n",
    "\n",
    "</b>"
   ]
  },
  {
   "cell_type": "markdown",
   "metadata": {},
   "source": [
    "\n",
    "<center>\n",
    "    <img src =giphy.gif width = 600 />\n",
    "    *It was all worth it...*\n",
    "</center>\n",
    "\n"
   ]
  }
 ],
 "metadata": {
  "hide_code_all_hidden": false,
  "kernelspec": {
   "display_name": "Python 3",
   "language": "python",
   "name": "python3"
  },
  "language_info": {
   "codemirror_mode": {
    "name": "ipython",
    "version": 3
   },
   "file_extension": ".py",
   "mimetype": "text/x-python",
   "name": "python",
   "nbconvert_exporter": "python",
   "pygments_lexer": "ipython3",
   "version": "3.7.0"
  }
 },
 "nbformat": 4,
 "nbformat_minor": 2
}
